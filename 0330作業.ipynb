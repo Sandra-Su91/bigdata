{
  "nbformat": 4,
  "nbformat_minor": 0,
  "metadata": {
    "colab": {
      "name": "0330作業",
      "provenance": [],
      "collapsed_sections": [],
      "include_colab_link": true
    },
    "kernelspec": {
      "name": "ir",
      "display_name": "R"
    }
  },
  "cells": [
    {
      "cell_type": "markdown",
      "metadata": {
        "id": "view-in-github",
        "colab_type": "text"
      },
      "source": [
        "<a href=\"https://colab.research.google.com/github/Sandra-Su91/bigdata/blob/main/0330%E4%BD%9C%E6%A5%AD.ipynb\" target=\"_parent\"><img src=\"https://colab.research.google.com/assets/colab-badge.svg\" alt=\"Open In Colab\"/></a>"
      ]
    },
    {
      "cell_type": "code",
      "metadata": {
        "colab": {
          "base_uri": "https://localhost:8080/",
          "height": 554
        },
        "id": "FsPtfr-hOEOv",
        "outputId": "908efe12-4584-454f-cfb8-d358885b81ca"
      },
      "source": [
        "ls\n",
        "\n"
      ],
      "execution_count": 1,
      "outputs": [
        {
          "output_type": "display_data",
          "data": {
            "text/plain": [
              "function (name, pos = -1L, envir = as.environment(pos), all.names = FALSE, \n",
              "    pattern, sorted = TRUE) \n",
              "{\n",
              "    if (!missing(name)) {\n",
              "        pos <- tryCatch(name, error = function(e) e)\n",
              "        if (inherits(pos, \"error\")) {\n",
              "            name <- substitute(name)\n",
              "            if (!is.character(name)) \n",
              "                name <- deparse(name)\n",
              "            warning(gettextf(\"%s converted to character string\", \n",
              "                sQuote(name)), domain = NA)\n",
              "            pos <- name\n",
              "        }\n",
              "    }\n",
              "    all.names <- .Internal(ls(envir, all.names, sorted))\n",
              "    if (!missing(pattern)) {\n",
              "        if ((ll <- length(grep(\"[\", pattern, fixed = TRUE))) && \n",
              "            ll != length(grep(\"]\", pattern, fixed = TRUE))) {\n",
              "            if (pattern == \"[\") {\n",
              "                pattern <- \"\\\\[\"\n",
              "                warning(\"replaced regular expression pattern '[' by  '\\\\\\\\['\")\n",
              "            }\n",
              "            else if (length(grep(\"[^\\\\\\\\]\\\\[<-\", pattern))) {\n",
              "                pattern <- sub(\"\\\\[<-\", \"\\\\\\\\\\\\[<-\", pattern)\n",
              "                warning(\"replaced '[<-' by '\\\\\\\\[<-' in regular expression pattern\")\n",
              "            }\n",
              "        }\n",
              "        grep(pattern, all.names, value = TRUE)\n",
              "    }\n",
              "    else all.names\n",
              "}\n",
              "<bytecode: 0x5584c7ca27e8>\n",
              "<environment: namespace:base>"
            ],
            "text/latex": "\\begin{minted}{r}\nfunction (name, pos = -1L, envir = as.environment(pos), all.names = FALSE, \n    pattern, sorted = TRUE) \n\\{\n    if (!missing(name)) \\{\n        pos <- tryCatch(name, error = function(e) e)\n        if (inherits(pos, \"error\")) \\{\n            name <- substitute(name)\n            if (!is.character(name)) \n                name <- deparse(name)\n            warning(gettextf(\"\\%s converted to character string\", \n                sQuote(name)), domain = NA)\n            pos <- name\n        \\}\n    \\}\n    all.names <- .Internal(ls(envir, all.names, sorted))\n    if (!missing(pattern)) \\{\n        if ((ll <- length(grep(\"{[}\", pattern, fixed = TRUE))) \\&\\& \n            ll != length(grep(\"{]}\", pattern, fixed = TRUE))) \\{\n            if (pattern == \"{[}\") \\{\n                pattern <- \"\\textbackslash{}\\textbackslash{}{[}\"\n                warning(\"replaced regular expression pattern '{[}' by  '\\textbackslash{}\\textbackslash{}\\textbackslash{}\\textbackslash{}{[}'\")\n            \\}\n            else if (length(grep(\"{[}\\textasciicircum{}\\textbackslash{}\\textbackslash{}\\textbackslash{}\\textbackslash{}{]}\\textbackslash{}\\textbackslash{}{[}<-\", pattern))) \\{\n                pattern <- sub(\"\\textbackslash{}\\textbackslash{}{[}<-\", \"\\textbackslash{}\\textbackslash{}\\textbackslash{}\\textbackslash{}\\textbackslash{}\\textbackslash{}{[}<-\", pattern)\n                warning(\"replaced '{[}<-' by '\\textbackslash{}\\textbackslash{}\\textbackslash{}\\textbackslash{}{[}<-' in regular expression pattern\")\n            \\}\n        \\}\n        grep(pattern, all.names, value = TRUE)\n    \\}\n    else all.names\n\\}\n\\end{minted}",
            "text/markdown": "```r\nfunction (name, pos = -1L, envir = as.environment(pos), all.names = FALSE, \n    pattern, sorted = TRUE) \n{\n    if (!missing(name)) {\n        pos <- tryCatch(name, error = function(e) e)\n        if (inherits(pos, \"error\")) {\n            name <- substitute(name)\n            if (!is.character(name)) \n                name <- deparse(name)\n            warning(gettextf(\"%s converted to character string\", \n                sQuote(name)), domain = NA)\n            pos <- name\n        }\n    }\n    all.names <- .Internal(ls(envir, all.names, sorted))\n    if (!missing(pattern)) {\n        if ((ll <- length(grep(\"[\", pattern, fixed = TRUE))) && \n            ll != length(grep(\"]\", pattern, fixed = TRUE))) {\n            if (pattern == \"[\") {\n                pattern <- \"\\\\[\"\n                warning(\"replaced regular expression pattern '[' by  '\\\\\\\\['\")\n            }\n            else if (length(grep(\"[^\\\\\\\\]\\\\[<-\", pattern))) {\n                pattern <- sub(\"\\\\[<-\", \"\\\\\\\\\\\\[<-\", pattern)\n                warning(\"replaced '[<-' by '\\\\\\\\[<-' in regular expression pattern\")\n            }\n        }\n        grep(pattern, all.names, value = TRUE)\n    }\n    else all.names\n}\n```",
            "text/html": [
              "<pre class=language-r><code>function (name, pos = -1L, envir = as.environment(pos), all.names = FALSE, \n",
              "<span style=white-space:pre-wrap>    pattern, sorted = TRUE) </span>\n",
              "{\n",
              "<span style=white-space:pre-wrap>    if (!missing(name)) {</span>\n",
              "<span style=white-space:pre-wrap>        pos &lt;- tryCatch(name, error = function(e) e)</span>\n",
              "<span style=white-space:pre-wrap>        if (inherits(pos, \"error\")) {</span>\n",
              "<span style=white-space:pre-wrap>            name &lt;- substitute(name)</span>\n",
              "<span style=white-space:pre-wrap>            if (!is.character(name)) </span>\n",
              "<span style=white-space:pre-wrap>                name &lt;- deparse(name)</span>\n",
              "<span style=white-space:pre-wrap>            warning(gettextf(\"%s converted to character string\", </span>\n",
              "<span style=white-space:pre-wrap>                sQuote(name)), domain = NA)</span>\n",
              "<span style=white-space:pre-wrap>            pos &lt;- name</span>\n",
              "<span style=white-space:pre-wrap>        }</span>\n",
              "<span style=white-space:pre-wrap>    }</span>\n",
              "<span style=white-space:pre-wrap>    all.names &lt;- .Internal(ls(envir, all.names, sorted))</span>\n",
              "<span style=white-space:pre-wrap>    if (!missing(pattern)) {</span>\n",
              "<span style=white-space:pre-wrap>        if ((ll &lt;- length(grep(\"[\", pattern, fixed = TRUE))) &amp;&amp; </span>\n",
              "<span style=white-space:pre-wrap>            ll != length(grep(\"]\", pattern, fixed = TRUE))) {</span>\n",
              "<span style=white-space:pre-wrap>            if (pattern == \"[\") {</span>\n",
              "<span style=white-space:pre-wrap>                pattern &lt;- \"\\\\[\"</span>\n",
              "<span style=white-space:pre-wrap>                warning(\"replaced regular expression pattern '[' by  '\\\\\\\\['\")</span>\n",
              "<span style=white-space:pre-wrap>            }</span>\n",
              "<span style=white-space:pre-wrap>            else if (length(grep(\"[^\\\\\\\\]\\\\[&lt;-\", pattern))) {</span>\n",
              "<span style=white-space:pre-wrap>                pattern &lt;- sub(\"\\\\[&lt;-\", \"\\\\\\\\\\\\[&lt;-\", pattern)</span>\n",
              "<span style=white-space:pre-wrap>                warning(\"replaced '[&lt;-' by '\\\\\\\\[&lt;-' in regular expression pattern\")</span>\n",
              "<span style=white-space:pre-wrap>            }</span>\n",
              "<span style=white-space:pre-wrap>        }</span>\n",
              "<span style=white-space:pre-wrap>        grep(pattern, all.names, value = TRUE)</span>\n",
              "<span style=white-space:pre-wrap>    }</span>\n",
              "<span style=white-space:pre-wrap>    else all.names</span>\n",
              "}</code></pre>"
            ]
          },
          "metadata": {
            "tags": []
          }
        }
      ]
    },
    {
      "cell_type": "code",
      "metadata": {
        "id": "UxVQ7_C_MouO",
        "colab": {
          "base_uri": "https://localhost:8080/"
        },
        "outputId": "8e75be3d-b2f4-4edc-fb49-ac2946f56b8f"
      },
      "source": [
        "install.packages(\"rjava\")"
      ],
      "execution_count": 2,
      "outputs": [
        {
          "output_type": "stream",
          "text": [
            "Installing package into ‘/usr/local/lib/R/site-library’\n",
            "(as ‘lib’ is unspecified)\n",
            "\n",
            "Warning message:\n",
            "“package ‘rjava’ is not available for this version of R\n",
            "\n",
            "A version of this package for your version of R might be available elsewhere,\n",
            "see the ideas at\n",
            "https://cran.r-project.org/doc/manuals/r-patched/R-admin.html#Installing-packages”\n",
            "Warning message:\n",
            "“Perhaps you meant ‘rJava’ ?”\n"
          ],
          "name": "stderr"
        }
      ]
    },
    {
      "cell_type": "code",
      "metadata": {
        "colab": {
          "base_uri": "https://localhost:8080/"
        },
        "id": "3Y25YghYM9Dq",
        "outputId": "0de74894-6cea-4b85-d2df-ac251a8cd0d5"
      },
      "source": [
        "install.packages(\"jiebaR\")"
      ],
      "execution_count": 3,
      "outputs": [
        {
          "output_type": "stream",
          "text": [
            "Installing package into ‘/usr/local/lib/R/site-library’\n",
            "(as ‘lib’ is unspecified)\n",
            "\n",
            "also installing the dependency ‘jiebaRD’\n",
            "\n",
            "\n"
          ],
          "name": "stderr"
        }
      ]
    },
    {
      "cell_type": "code",
      "metadata": {
        "colab": {
          "base_uri": "https://localhost:8080/"
        },
        "id": "u5hT43juNFx_",
        "outputId": "906c89a1-16b3-4a87-ed5f-e12eb06f1ee5"
      },
      "source": [
        "install.packages(\"tmcn\")"
      ],
      "execution_count": 4,
      "outputs": [
        {
          "output_type": "stream",
          "text": [
            "Installing package into ‘/usr/local/lib/R/site-library’\n",
            "(as ‘lib’ is unspecified)\n",
            "\n"
          ],
          "name": "stderr"
        }
      ]
    },
    {
      "cell_type": "code",
      "metadata": {
        "colab": {
          "base_uri": "https://localhost:8080/"
        },
        "id": "Ga7nR7_RNMnK",
        "outputId": "4c469b67-99ca-4a87-81c4-55579f1f23ff"
      },
      "source": [
        "install.packages(\"dplyr\")"
      ],
      "execution_count": 5,
      "outputs": [
        {
          "output_type": "stream",
          "text": [
            "Installing package into ‘/usr/local/lib/R/site-library’\n",
            "(as ‘lib’ is unspecified)\n",
            "\n"
          ],
          "name": "stderr"
        }
      ]
    },
    {
      "cell_type": "code",
      "metadata": {
        "colab": {
          "base_uri": "https://localhost:8080/"
        },
        "id": "k0o-VqyLNU-W",
        "outputId": "6929aeda-7785-415e-d631-389ce3435fbf"
      },
      "source": [
        "install.packages(\"lubridata\")"
      ],
      "execution_count": 6,
      "outputs": [
        {
          "output_type": "stream",
          "text": [
            "Installing package into ‘/usr/local/lib/R/site-library’\n",
            "(as ‘lib’ is unspecified)\n",
            "\n",
            "Warning message:\n",
            "“package ‘lubridata’ is not available for this version of R\n",
            "\n",
            "A version of this package for your version of R might be available elsewhere,\n",
            "see the ideas at\n",
            "https://cran.r-project.org/doc/manuals/r-patched/R-admin.html#Installing-packages”\n"
          ],
          "name": "stderr"
        }
      ]
    },
    {
      "cell_type": "code",
      "metadata": {
        "colab": {
          "base_uri": "https://localhost:8080/"
        },
        "id": "YE_WganhNbC7",
        "outputId": "91eda1e5-2b4e-42d2-bb01-6ed28ee22aaf"
      },
      "source": [
        "install.packages(\"stringr\")"
      ],
      "execution_count": 7,
      "outputs": [
        {
          "output_type": "stream",
          "text": [
            "Installing package into ‘/usr/local/lib/R/site-library’\n",
            "(as ‘lib’ is unspecified)\n",
            "\n"
          ],
          "name": "stderr"
        }
      ]
    },
    {
      "cell_type": "code",
      "metadata": {
        "colab": {
          "base_uri": "https://localhost:8080/"
        },
        "id": "D-7hGuWnNhmn",
        "outputId": "1ad2095d-7faa-4ef0-a1e5-72c93fa74316"
      },
      "source": [
        "install.packages(\"wordcloud\")"
      ],
      "execution_count": 8,
      "outputs": [
        {
          "output_type": "stream",
          "text": [
            "Installing package into ‘/usr/local/lib/R/site-library’\n",
            "(as ‘lib’ is unspecified)\n",
            "\n"
          ],
          "name": "stderr"
        }
      ]
    },
    {
      "cell_type": "code",
      "metadata": {
        "colab": {
          "base_uri": "https://localhost:8080/"
        },
        "id": "S-8fDaMXNosl",
        "outputId": "59d79f19-02bb-4596-8870-fc9cf49082f4"
      },
      "source": [
        "install.packages(\"Pwordseg\",repos = \"http://R-Forge.R-project.org\")"
      ],
      "execution_count": 9,
      "outputs": [
        {
          "output_type": "stream",
          "text": [
            "Installing package into ‘/usr/local/lib/R/site-library’\n",
            "(as ‘lib’ is unspecified)\n",
            "\n",
            "Warning message:\n",
            "“package ‘Pwordseg’ is not available for this version of R\n",
            "\n",
            "A version of this package for your version of R might be available elsewhere,\n",
            "see the ideas at\n",
            "https://cran.r-project.org/doc/manuals/r-patched/R-admin.html#Installing-packages”\n"
          ],
          "name": "stderr"
        }
      ]
    },
    {
      "cell_type": "code",
      "metadata": {
        "colab": {
          "base_uri": "https://localhost:8080/"
        },
        "id": "QzNFEQJtN-Vw",
        "outputId": "859c0a44-22d3-4412-fc5e-f681ac1bd2f4"
      },
      "source": [
        "library(dplyr)\n",
        "library(lubridate)\n",
        "library(stringr)\n",
        "library(jiebaR)\n",
        "library(wordcloud)"
      ],
      "execution_count": 10,
      "outputs": [
        {
          "output_type": "stream",
          "text": [
            "\n",
            "Attaching package: ‘dplyr’\n",
            "\n",
            "\n",
            "The following objects are masked from ‘package:stats’:\n",
            "\n",
            "    filter, lag\n",
            "\n",
            "\n",
            "The following objects are masked from ‘package:base’:\n",
            "\n",
            "    intersect, setdiff, setequal, union\n",
            "\n",
            "\n",
            "Warning message in system(\"timedatectl\", intern = TRUE):\n",
            "“running command 'timedatectl' had status 1”\n",
            "\n",
            "Attaching package: ‘lubridate’\n",
            "\n",
            "\n",
            "The following objects are masked from ‘package:base’:\n",
            "\n",
            "    date, intersect, setdiff, union\n",
            "\n",
            "\n",
            "Loading required package: jiebaRD\n",
            "\n",
            "Loading required package: RColorBrewer\n",
            "\n"
          ],
          "name": "stderr"
        }
      ]
    },
    {
      "cell_type": "code",
      "metadata": {
        "id": "-YN7bjC5OalS"
      },
      "source": [
        "content <- \"長榮海運巨型貨輪長賜輪（Ever Given）在蘇伊士運河（Suez Canal）擱淺近一週，今天終於重新浮起脫困，運河恢復開放。當局表示可能會花2天半至3天時間，讓等待通過的船舶長龍淨空。\n",
        "法新社報導，蘇伊士運河管理局（SCA）發布聲明表示，管理局主席雷比（Osama Rabie）已宣布蘇伊士運河航運恢復。\n",
        "\n",
        "長榮晚間也發布新聞稿指出，接獲長賜輪船東通報，這艘租船已於台北時間今天晚間9點左右、埃及時間下午3時重新浮起，並在拖船協助下，順利移出原先擱淺的河道，讓蘇伊士運河恢復正常通行。\n",
        "\n",
        "長榮表示，長賜輪將先移至蘇伊士運河大苦湖（Great Bitter Lake）水域錨地，進行船舶適航性檢驗，這艘貨櫃輪後續的航程以及貨物運送，將視驗船機構的檢驗結果，進行必要調整與安排。\n",
        "\n",
        "根據路透社，雷比表示，當局可能會花2天半至3天時間紓解塞船。一名消息人士也說，每天可有超過100艘船隻進入運河。\n",
        "\n",
        "全球航運權威媒體「勞氏日報」（Lloyd's List）稍早報導，現有425艘船舶正等著通過蘇伊士運河。\n",
        "\n",
        "400公尺長的長賜輪為2萬TEU級貨櫃輪，現由長榮海運以論時傭船（Time Charter）方式向日本船東承租，目前配置於遠東至歐洲航線。\n",
        "\n",
        "長賜輪在巴拿馬註冊，本月23日在強烈沙塵暴中擱淺於蘇伊士運河，船身打斜堵住運河雙向交通，使得全球供應鏈受阻，受影響的每日貨物運輸規模達90億美元（約新台幣2600億元）。\n",
        "\n",
        "以下為輪船今天脫困過程整理：\n",
        "\n",
        "●成功浮起\n",
        "長賜輪在蘇伊士運河受困，各方紛紛趕來救援。\n",
        "\n",
        "掛荷蘭旗的專業拖曳船Alp Guard號、掛義大利旗的Carlo Magno號28日陸續抵達事發現場附近。這兩艘拖曳船和已在現場的至少10艘拖曳船，今天以拖引配合挖泥船的挖沙作業，協助讓長賜輪脫困。\n",
        "\n",
        "根據海上服務供應商Inchcape Shipping Service的電子郵件，長賜輪在埃及當地時間今天凌晨4時30分左右（台灣時間29日上午10時30分）成功浮起。\n",
        "\n",
        "雷比隨後透過聲明表示：「這艘船的方向已被重新導正80%。船尾移動至距離岸邊102公尺處。」長賜輪船尾位置原先距離河岸僅4公尺。\""
      ],
      "execution_count": 11,
      "outputs": []
    },
    {
      "cell_type": "code",
      "metadata": {
        "id": "ri08qrc2Oluo"
      },
      "source": [
        "cutter<-worker(bylines = F)"
      ],
      "execution_count": 12,
      "outputs": []
    },
    {
      "cell_type": "code",
      "metadata": {
        "colab": {
          "base_uri": "https://localhost:8080/",
          "height": 487
        },
        "id": "gpSFxGr0O0Wz",
        "outputId": "3485c89c-31ef-4db0-8948-da199961ed37"
      },
      "source": [
        "cutter[content]"
      ],
      "execution_count": 13,
      "outputs": [
        {
          "output_type": "display_data",
          "data": {
            "text/plain": [
              "  [1] \"長榮\"       \"海運\"       \"巨型\"       \"貨輪\"       \"長\"        \n",
              "  [6] \"賜輪\"       \"Ever\"       \"Given\"      \"在\"         \"蘇伊士運河\"\n",
              " [11] \"Suez\"       \"Canal\"      \"擱淺\"       \"近\"         \"一週\"      \n",
              " [16] \"今天\"       \"終於\"       \"重新\"       \"浮起\"       \"脫困\"      \n",
              " [21] \"運河\"       \"恢復\"       \"開放\"       \"當局\"       \"表示\"      \n",
              " [26] \"可能\"       \"會花\"       \"2\"          \"天半至\"     \"3\"         \n",
              " [31] \"天\"         \"時間\"       \"讓\"         \"等待\"       \"通過\"      \n",
              " [36] \"的\"         \"船舶\"       \"長龍\"       \"淨空\"       \"法新社\"    \n",
              " [41] \"報導\"       \"蘇伊士運河\" \"管理局\"     \"SCA\"        \"發\"        \n",
              " [46] \"布\"         \"聲明\"       \"表示\"       \"管理局\"     \"主席\"      \n",
              " [51] \"雷比\"       \"Osama\"      \"Rabie\"      \"已\"         \"宣布\"      \n",
              " [56] \"蘇伊士運河\" \"航運\"       \"恢復\"       \"長榮\"       \"晚間\"      \n",
              " [61] \"也\"         \"發布\"       \"新聞稿\"     \"指出\"       \"接獲\"      \n",
              " [66] \"長\"         \"賜\"         \"輪\"         \"船東\"       \"通報\"      \n",
              " [71] \"這艘\"       \"租船\"       \"已於\"       \"台北\"       \"時間\"      \n",
              " [76] \"今天\"       \"晚間\"       \"9\"          \"點\"         \"左右\"      \n",
              " [81] \"埃及\"       \"時間\"       \"下午\"       \"3\"          \"時\"        \n",
              " [86] \"重新\"       \"浮起\"       \"並在\"       \"拖船\"       \"協助\"      \n",
              " [91] \"下\"         \"順利\"       \"移出\"       \"原先\"       \"擱淺\"      \n",
              " [96] \"的\"         \"河道\"       \"讓\"         \"蘇伊士運河\" \"恢復正常\"  \n",
              "[101] \"通行\"       \"長榮\"       \"表示\"       \"長\"         \"賜\"        \n",
              "[106] \"輪\"         \"將先\"       \"移至\"       \"蘇伊士運河\" \"大苦湖\"    \n",
              "[111] \"Great\"      \"Bitter\"     \"Lake\"       \"水域\"       \"錨地\"      \n",
              "[116] \"進行\"       \"船舶\"       \"適航性\"     \"檢驗\"       \"這艘\"      \n",
              "[121] \"貨櫃\"       \"輪\"         \"後續\"       \"的\"         \"航程\"      \n",
              "[126] \"以及\"       \"貨物\"       \"運送\"       \"將視驗\"     \"船\"        \n",
              "[131] \"機構\"       \"的\"         \"檢驗\"       \"結果\"       \"進行\"      \n",
              "[136] \"必要\"       \"調整\"       \"與\"         \"安排\"       \"根據\"      \n",
              "[141] \"路透社\"     \"雷比\"       \"表示\"       \"當局\"       \"可能\"      \n",
              "[146] \"會花\"       \"2\"          \"天半至\"     \"3\"          \"天\"        \n",
              "[151] \"時間\"       \"紓解\"       \"塞船\"       \"一名\"       \"消息人士\"  \n",
              "[156] \"也\"         \"說\"         \"每天\"       \"可有\"       \"超過\"      \n",
              "[161] \"100\"        \"艘\"         \"船隻\"       \"進入\"       \"運河\"      \n",
              "[166] \"全球\"       \"航運\"       \"權威\"       \"媒體\"       \"勞\"        \n",
              "[171] \"氏\"         \"日報\"       \"Lloyd\"      \"s\"          \"List\"      \n",
              "[176] \"稍早\"       \"報導\"       \"現有\"       \"425\"        \"艘\"        \n",
              "[181] \"船舶\"       \"正\"         \"等\"         \"著\"         \"通過\"      \n",
              "[186] \"蘇伊士運河\" \"400\"        \"公尺\"       \"長\"         \"的\"        \n",
              "[191] \"長\"         \"賜\"         \"輪\"         \"為\"         \"2\"         \n",
              "[196] \"萬\"         \"TEU\"        \"級\"         \"貨櫃\"       \"輪\"        \n",
              "[201] \"現由\"       \"長榮\"       \"海運\"       \"以論\"       \"時傭船\"    \n",
              "[206] \"Time\"       \"Charter\"    \"方式\"       \"向\"         \"日本\"      \n",
              "[211] \"船東\"       \"承租\"       \"目前\"       \"配\"         \"置於\"      \n",
              "[216] \"遠東\"       \"至\"         \"歐洲\"       \"航線\"       \"長\"        \n",
              "[221] \"賜\"         \"輪\"         \"在\"         \"巴拿馬\"     \"註冊\"      \n",
              "[226] \"本月\"       \"23\"         \"日\"         \"在\"         \"強烈\"      \n",
              "[231] \"沙塵暴\"     \"中\"         \"擱淺\"       \"於\"         \"蘇伊士運河\"\n",
              "[236] \"船身\"       \"打斜\"       \"堵住\"       \"運河\"       \"雙向交通\"  \n",
              "[241] \"使得\"       \"全球\"       \"供應鏈\"     \"受阻\"       \"受\"        \n",
              "[246] \"影響\"       \"的\"         \"每日\"       \"貨物運輸\"   \"規模\"      \n",
              "[251] \"達\"         \"90\"         \"億美元\"     \"約\"         \"新\"        \n",
              "[256] \"台\"         \"幣\"         \"2600\"       \"億元\"       \"以下\"      \n",
              "[261] \"為\"         \"輪船\"       \"今天\"       \"脫困\"       \"過程\"      \n",
              "[266] \"整理\"       \"成功\"       \"浮起\"       \"長\"         \"賜\"        \n",
              "[271] \"輪\"         \"在\"         \"蘇伊士運河\" \"受困\"       \"各方\"      \n",
              "[276] \"紛紛\"       \"趕來\"       \"救援\"       \"掛\"         \"荷蘭\"      \n",
              "[281] \"旗\"         \"的\"         \"專業\"       \"拖曳\"       \"船\"        \n",
              "[286] \"Alp\"        \"Guard\"      \"號\"         \"掛\"         \"義大利\"    \n",
              "[291] \"旗\"         \"的\"         \"Carlo\"      \"Magno\"      \"號\"        \n",
              "[296] \"28\"         \"日\"         \"陸續\"       \"抵達\"       \"事發\"      \n",
              "[301] \"現場\"       \"附近\"       \"這\"         \"兩艘\"       \"拖曳\"      \n",
              "[306] \"船\"         \"和\"         \"已\"         \"在\"         \"現場\"      \n",
              "[311] \"的\"         \"至少\"       \"10\"         \"艘\"         \"拖曳\"      \n",
              "[316] \"船\"         \"今天\"       \"以\"         \"拖引\"       \"配合\"      \n",
              "[321] \"挖泥船\"     \"的\"         \"挖沙\"       \"作業\"       \"協助\"      \n",
              "[326] \"讓\"         \"長\"         \"賜\"         \"輪\"         \"脫困\"      \n",
              "[331] \"根據\"       \"海上\"       \"服務供應商\" \"Inchcape\"   \"Shipping\"  \n",
              "[336] \"Service\"    \"的\"         \"電子郵件\"   \"長\"         \"賜\"        \n",
              "[341] \"輪\"         \"在\"         \"埃及\"       \"當地\"       \"時間\"      \n",
              "[346] \"今天\"       \"凌晨\"       \"4\"          \"時\"         \"30\"        \n",
              "[351] \"分\"         \"左右\"       \"台\"         \"灣\"         \"時間\"      \n",
              "[356] \"29\"         \"日\"         \"上午\"       \"10\"         \"時\"        \n",
              "[361] \"30\"         \"分\"         \"成功\"       \"浮起\"       \"雷比\"      \n",
              "[366] \"隨後\"       \"透過\"       \"聲明\"       \"表示\"       \"這\"        \n",
              "[371] \"艘\"         \"船\"         \"的\"         \"方向\"       \"已\"        \n",
              "[376] \"被\"         \"重新\"       \"導正\"       \"80\"         \"船尾\"      \n",
              "[381] \"移動\"       \"至\"         \"距離\"       \"岸邊\"       \"102\"       \n",
              "[386] \"公尺\"       \"處\"         \"長\"         \"賜\"         \"輪船\"      \n",
              "[391] \"尾\"         \"位置\"       \"原先\"       \"距離\"       \"河岸\"      \n",
              "[396] \"僅\"         \"4\"          \"公尺\"      "
            ],
            "text/latex": "\\begin{enumerate*}\n\\item '長榮'\n\\item '海運'\n\\item '巨型'\n\\item '貨輪'\n\\item '長'\n\\item '賜輪'\n\\item 'Ever'\n\\item 'Given'\n\\item '在'\n\\item '蘇伊士運河'\n\\item 'Suez'\n\\item 'Canal'\n\\item '擱淺'\n\\item '近'\n\\item '一週'\n\\item '今天'\n\\item '終於'\n\\item '重新'\n\\item '浮起'\n\\item '脫困'\n\\item '運河'\n\\item '恢復'\n\\item '開放'\n\\item '當局'\n\\item '表示'\n\\item '可能'\n\\item '會花'\n\\item '2'\n\\item '天半至'\n\\item '3'\n\\item '天'\n\\item '時間'\n\\item '讓'\n\\item '等待'\n\\item '通過'\n\\item '的'\n\\item '船舶'\n\\item '長龍'\n\\item '淨空'\n\\item '法新社'\n\\item '報導'\n\\item '蘇伊士運河'\n\\item '管理局'\n\\item 'SCA'\n\\item '發'\n\\item '布'\n\\item '聲明'\n\\item '表示'\n\\item '管理局'\n\\item '主席'\n\\item '雷比'\n\\item 'Osama'\n\\item 'Rabie'\n\\item '已'\n\\item '宣布'\n\\item '蘇伊士運河'\n\\item '航運'\n\\item '恢復'\n\\item '長榮'\n\\item '晚間'\n\\item '也'\n\\item '發布'\n\\item '新聞稿'\n\\item '指出'\n\\item '接獲'\n\\item '長'\n\\item '賜'\n\\item '輪'\n\\item '船東'\n\\item '通報'\n\\item '這艘'\n\\item '租船'\n\\item '已於'\n\\item '台北'\n\\item '時間'\n\\item '今天'\n\\item '晚間'\n\\item '9'\n\\item '點'\n\\item '左右'\n\\item '埃及'\n\\item '時間'\n\\item '下午'\n\\item '3'\n\\item '時'\n\\item '重新'\n\\item '浮起'\n\\item '並在'\n\\item '拖船'\n\\item '協助'\n\\item '下'\n\\item '順利'\n\\item '移出'\n\\item '原先'\n\\item '擱淺'\n\\item '的'\n\\item '河道'\n\\item '讓'\n\\item '蘇伊士運河'\n\\item '恢復正常'\n\\item '通行'\n\\item '長榮'\n\\item '表示'\n\\item '長'\n\\item '賜'\n\\item '輪'\n\\item '將先'\n\\item '移至'\n\\item '蘇伊士運河'\n\\item '大苦湖'\n\\item 'Great'\n\\item 'Bitter'\n\\item 'Lake'\n\\item '水域'\n\\item '錨地'\n\\item '進行'\n\\item '船舶'\n\\item '適航性'\n\\item '檢驗'\n\\item '這艘'\n\\item '貨櫃'\n\\item '輪'\n\\item '後續'\n\\item '的'\n\\item '航程'\n\\item '以及'\n\\item '貨物'\n\\item '運送'\n\\item '將視驗'\n\\item '船'\n\\item '機構'\n\\item '的'\n\\item '檢驗'\n\\item '結果'\n\\item '進行'\n\\item '必要'\n\\item '調整'\n\\item '與'\n\\item '安排'\n\\item '根據'\n\\item '路透社'\n\\item '雷比'\n\\item '表示'\n\\item '當局'\n\\item '可能'\n\\item '會花'\n\\item '2'\n\\item '天半至'\n\\item '3'\n\\item '天'\n\\item '時間'\n\\item '紓解'\n\\item '塞船'\n\\item '一名'\n\\item '消息人士'\n\\item '也'\n\\item '說'\n\\item '每天'\n\\item '可有'\n\\item '超過'\n\\item '100'\n\\item '艘'\n\\item '船隻'\n\\item '進入'\n\\item '運河'\n\\item '全球'\n\\item '航運'\n\\item '權威'\n\\item '媒體'\n\\item '勞'\n\\item '氏'\n\\item '日報'\n\\item 'Lloyd'\n\\item 's'\n\\item 'List'\n\\item '稍早'\n\\item '報導'\n\\item '現有'\n\\item '425'\n\\item '艘'\n\\item '船舶'\n\\item '正'\n\\item '等'\n\\item '著'\n\\item '通過'\n\\item '蘇伊士運河'\n\\item '400'\n\\item '公尺'\n\\item '長'\n\\item '的'\n\\item '長'\n\\item '賜'\n\\item '輪'\n\\item '為'\n\\item '2'\n\\item '萬'\n\\item 'TEU'\n\\item '級'\n\\item '貨櫃'\n\\item '輪'\n\\item '現由'\n\\item '長榮'\n\\item '海運'\n\\item '以論'\n\\item '時傭船'\n\\item 'Time'\n\\item 'Charter'\n\\item '方式'\n\\item '向'\n\\item '日本'\n\\item '船東'\n\\item '承租'\n\\item '目前'\n\\item '配'\n\\item '置於'\n\\item '遠東'\n\\item '至'\n\\item '歐洲'\n\\item '航線'\n\\item '長'\n\\item '賜'\n\\item '輪'\n\\item '在'\n\\item '巴拿馬'\n\\item '註冊'\n\\item '本月'\n\\item '23'\n\\item '日'\n\\item '在'\n\\item '強烈'\n\\item '沙塵暴'\n\\item '中'\n\\item '擱淺'\n\\item '於'\n\\item '蘇伊士運河'\n\\item '船身'\n\\item '打斜'\n\\item '堵住'\n\\item '運河'\n\\item '雙向交通'\n\\item '使得'\n\\item '全球'\n\\item '供應鏈'\n\\item '受阻'\n\\item '受'\n\\item '影響'\n\\item '的'\n\\item '每日'\n\\item '貨物運輸'\n\\item '規模'\n\\item '達'\n\\item '90'\n\\item '億美元'\n\\item '約'\n\\item '新'\n\\item '台'\n\\item '幣'\n\\item '2600'\n\\item '億元'\n\\item '以下'\n\\item '為'\n\\item '輪船'\n\\item '今天'\n\\item '脫困'\n\\item '過程'\n\\item '整理'\n\\item '成功'\n\\item '浮起'\n\\item '長'\n\\item '賜'\n\\item '輪'\n\\item '在'\n\\item '蘇伊士運河'\n\\item '受困'\n\\item '各方'\n\\item '紛紛'\n\\item '趕來'\n\\item '救援'\n\\item '掛'\n\\item '荷蘭'\n\\item '旗'\n\\item '的'\n\\item '專業'\n\\item '拖曳'\n\\item '船'\n\\item 'Alp'\n\\item 'Guard'\n\\item '號'\n\\item '掛'\n\\item '義大利'\n\\item '旗'\n\\item '的'\n\\item 'Carlo'\n\\item 'Magno'\n\\item '號'\n\\item '28'\n\\item '日'\n\\item '陸續'\n\\item '抵達'\n\\item '事發'\n\\item '現場'\n\\item '附近'\n\\item '這'\n\\item '兩艘'\n\\item '拖曳'\n\\item '船'\n\\item '和'\n\\item '已'\n\\item '在'\n\\item '現場'\n\\item '的'\n\\item '至少'\n\\item '10'\n\\item '艘'\n\\item '拖曳'\n\\item '船'\n\\item '今天'\n\\item '以'\n\\item '拖引'\n\\item '配合'\n\\item '挖泥船'\n\\item '的'\n\\item '挖沙'\n\\item '作業'\n\\item '協助'\n\\item '讓'\n\\item '長'\n\\item '賜'\n\\item '輪'\n\\item '脫困'\n\\item '根據'\n\\item '海上'\n\\item '服務供應商'\n\\item 'Inchcape'\n\\item 'Shipping'\n\\item 'Service'\n\\item '的'\n\\item '電子郵件'\n\\item '長'\n\\item '賜'\n\\item '輪'\n\\item '在'\n\\item '埃及'\n\\item '當地'\n\\item '時間'\n\\item '今天'\n\\item '凌晨'\n\\item '4'\n\\item '時'\n\\item '30'\n\\item '分'\n\\item '左右'\n\\item '台'\n\\item '灣'\n\\item '時間'\n\\item '29'\n\\item '日'\n\\item '上午'\n\\item '10'\n\\item '時'\n\\item '30'\n\\item '分'\n\\item '成功'\n\\item '浮起'\n\\item '雷比'\n\\item '隨後'\n\\item '透過'\n\\item '聲明'\n\\item '表示'\n\\item '這'\n\\item '艘'\n\\item '船'\n\\item '的'\n\\item '方向'\n\\item '已'\n\\item '被'\n\\item '重新'\n\\item '導正'\n\\item '80'\n\\item '船尾'\n\\item '移動'\n\\item '至'\n\\item '距離'\n\\item '岸邊'\n\\item '102'\n\\item '公尺'\n\\item '處'\n\\item '長'\n\\item '賜'\n\\item '輪船'\n\\item '尾'\n\\item '位置'\n\\item '原先'\n\\item '距離'\n\\item '河岸'\n\\item '僅'\n\\item '4'\n\\item '公尺'\n\\end{enumerate*}\n",
            "text/markdown": "1. '長榮'\n2. '海運'\n3. '巨型'\n4. '貨輪'\n5. '長'\n6. '賜輪'\n7. 'Ever'\n8. 'Given'\n9. '在'\n10. '蘇伊士運河'\n11. 'Suez'\n12. 'Canal'\n13. '擱淺'\n14. '近'\n15. '一週'\n16. '今天'\n17. '終於'\n18. '重新'\n19. '浮起'\n20. '脫困'\n21. '運河'\n22. '恢復'\n23. '開放'\n24. '當局'\n25. '表示'\n26. '可能'\n27. '會花'\n28. '2'\n29. '天半至'\n30. '3'\n31. '天'\n32. '時間'\n33. '讓'\n34. '等待'\n35. '通過'\n36. '的'\n37. '船舶'\n38. '長龍'\n39. '淨空'\n40. '法新社'\n41. '報導'\n42. '蘇伊士運河'\n43. '管理局'\n44. 'SCA'\n45. '發'\n46. '布'\n47. '聲明'\n48. '表示'\n49. '管理局'\n50. '主席'\n51. '雷比'\n52. 'Osama'\n53. 'Rabie'\n54. '已'\n55. '宣布'\n56. '蘇伊士運河'\n57. '航運'\n58. '恢復'\n59. '長榮'\n60. '晚間'\n61. '也'\n62. '發布'\n63. '新聞稿'\n64. '指出'\n65. '接獲'\n66. '長'\n67. '賜'\n68. '輪'\n69. '船東'\n70. '通報'\n71. '這艘'\n72. '租船'\n73. '已於'\n74. '台北'\n75. '時間'\n76. '今天'\n77. '晚間'\n78. '9'\n79. '點'\n80. '左右'\n81. '埃及'\n82. '時間'\n83. '下午'\n84. '3'\n85. '時'\n86. '重新'\n87. '浮起'\n88. '並在'\n89. '拖船'\n90. '協助'\n91. '下'\n92. '順利'\n93. '移出'\n94. '原先'\n95. '擱淺'\n96. '的'\n97. '河道'\n98. '讓'\n99. '蘇伊士運河'\n100. '恢復正常'\n101. '通行'\n102. '長榮'\n103. '表示'\n104. '長'\n105. '賜'\n106. '輪'\n107. '將先'\n108. '移至'\n109. '蘇伊士運河'\n110. '大苦湖'\n111. 'Great'\n112. 'Bitter'\n113. 'Lake'\n114. '水域'\n115. '錨地'\n116. '進行'\n117. '船舶'\n118. '適航性'\n119. '檢驗'\n120. '這艘'\n121. '貨櫃'\n122. '輪'\n123. '後續'\n124. '的'\n125. '航程'\n126. '以及'\n127. '貨物'\n128. '運送'\n129. '將視驗'\n130. '船'\n131. '機構'\n132. '的'\n133. '檢驗'\n134. '結果'\n135. '進行'\n136. '必要'\n137. '調整'\n138. '與'\n139. '安排'\n140. '根據'\n141. '路透社'\n142. '雷比'\n143. '表示'\n144. '當局'\n145. '可能'\n146. '會花'\n147. '2'\n148. '天半至'\n149. '3'\n150. '天'\n151. '時間'\n152. '紓解'\n153. '塞船'\n154. '一名'\n155. '消息人士'\n156. '也'\n157. '說'\n158. '每天'\n159. '可有'\n160. '超過'\n161. '100'\n162. '艘'\n163. '船隻'\n164. '進入'\n165. '運河'\n166. '全球'\n167. '航運'\n168. '權威'\n169. '媒體'\n170. '勞'\n171. '氏'\n172. '日報'\n173. 'Lloyd'\n174. 's'\n175. 'List'\n176. '稍早'\n177. '報導'\n178. '現有'\n179. '425'\n180. '艘'\n181. '船舶'\n182. '正'\n183. '等'\n184. '著'\n185. '通過'\n186. '蘇伊士運河'\n187. '400'\n188. '公尺'\n189. '長'\n190. '的'\n191. '長'\n192. '賜'\n193. '輪'\n194. '為'\n195. '2'\n196. '萬'\n197. 'TEU'\n198. '級'\n199. '貨櫃'\n200. '輪'\n201. '現由'\n202. '長榮'\n203. '海運'\n204. '以論'\n205. '時傭船'\n206. 'Time'\n207. 'Charter'\n208. '方式'\n209. '向'\n210. '日本'\n211. '船東'\n212. '承租'\n213. '目前'\n214. '配'\n215. '置於'\n216. '遠東'\n217. '至'\n218. '歐洲'\n219. '航線'\n220. '長'\n221. '賜'\n222. '輪'\n223. '在'\n224. '巴拿馬'\n225. '註冊'\n226. '本月'\n227. '23'\n228. '日'\n229. '在'\n230. '強烈'\n231. '沙塵暴'\n232. '中'\n233. '擱淺'\n234. '於'\n235. '蘇伊士運河'\n236. '船身'\n237. '打斜'\n238. '堵住'\n239. '運河'\n240. '雙向交通'\n241. '使得'\n242. '全球'\n243. '供應鏈'\n244. '受阻'\n245. '受'\n246. '影響'\n247. '的'\n248. '每日'\n249. '貨物運輸'\n250. '規模'\n251. '達'\n252. '90'\n253. '億美元'\n254. '約'\n255. '新'\n256. '台'\n257. '幣'\n258. '2600'\n259. '億元'\n260. '以下'\n261. '為'\n262. '輪船'\n263. '今天'\n264. '脫困'\n265. '過程'\n266. '整理'\n267. '成功'\n268. '浮起'\n269. '長'\n270. '賜'\n271. '輪'\n272. '在'\n273. '蘇伊士運河'\n274. '受困'\n275. '各方'\n276. '紛紛'\n277. '趕來'\n278. '救援'\n279. '掛'\n280. '荷蘭'\n281. '旗'\n282. '的'\n283. '專業'\n284. '拖曳'\n285. '船'\n286. 'Alp'\n287. 'Guard'\n288. '號'\n289. '掛'\n290. '義大利'\n291. '旗'\n292. '的'\n293. 'Carlo'\n294. 'Magno'\n295. '號'\n296. '28'\n297. '日'\n298. '陸續'\n299. '抵達'\n300. '事發'\n301. '現場'\n302. '附近'\n303. '這'\n304. '兩艘'\n305. '拖曳'\n306. '船'\n307. '和'\n308. '已'\n309. '在'\n310. '現場'\n311. '的'\n312. '至少'\n313. '10'\n314. '艘'\n315. '拖曳'\n316. '船'\n317. '今天'\n318. '以'\n319. '拖引'\n320. '配合'\n321. '挖泥船'\n322. '的'\n323. '挖沙'\n324. '作業'\n325. '協助'\n326. '讓'\n327. '長'\n328. '賜'\n329. '輪'\n330. '脫困'\n331. '根據'\n332. '海上'\n333. '服務供應商'\n334. 'Inchcape'\n335. 'Shipping'\n336. 'Service'\n337. '的'\n338. '電子郵件'\n339. '長'\n340. '賜'\n341. '輪'\n342. '在'\n343. '埃及'\n344. '當地'\n345. '時間'\n346. '今天'\n347. '凌晨'\n348. '4'\n349. '時'\n350. '30'\n351. '分'\n352. '左右'\n353. '台'\n354. '灣'\n355. '時間'\n356. '29'\n357. '日'\n358. '上午'\n359. '10'\n360. '時'\n361. '30'\n362. '分'\n363. '成功'\n364. '浮起'\n365. '雷比'\n366. '隨後'\n367. '透過'\n368. '聲明'\n369. '表示'\n370. '這'\n371. '艘'\n372. '船'\n373. '的'\n374. '方向'\n375. '已'\n376. '被'\n377. '重新'\n378. '導正'\n379. '80'\n380. '船尾'\n381. '移動'\n382. '至'\n383. '距離'\n384. '岸邊'\n385. '102'\n386. '公尺'\n387. '處'\n388. '長'\n389. '賜'\n390. '輪船'\n391. '尾'\n392. '位置'\n393. '原先'\n394. '距離'\n395. '河岸'\n396. '僅'\n397. '4'\n398. '公尺'\n\n\n",
            "text/html": [
              "<style>\n",
              ".list-inline {list-style: none; margin:0; padding: 0}\n",
              ".list-inline>li {display: inline-block}\n",
              ".list-inline>li:not(:last-child)::after {content: \"\\00b7\"; padding: 0 .5ex}\n",
              "</style>\n",
              "<ol class=list-inline><li>'長榮'</li><li>'海運'</li><li>'巨型'</li><li>'貨輪'</li><li>'長'</li><li>'賜輪'</li><li>'Ever'</li><li>'Given'</li><li>'在'</li><li>'蘇伊士運河'</li><li>'Suez'</li><li>'Canal'</li><li>'擱淺'</li><li>'近'</li><li>'一週'</li><li>'今天'</li><li>'終於'</li><li>'重新'</li><li>'浮起'</li><li>'脫困'</li><li>'運河'</li><li>'恢復'</li><li>'開放'</li><li>'當局'</li><li>'表示'</li><li>'可能'</li><li>'會花'</li><li>'2'</li><li>'天半至'</li><li>'3'</li><li>'天'</li><li>'時間'</li><li>'讓'</li><li>'等待'</li><li>'通過'</li><li>'的'</li><li>'船舶'</li><li>'長龍'</li><li>'淨空'</li><li>'法新社'</li><li>'報導'</li><li>'蘇伊士運河'</li><li>'管理局'</li><li>'SCA'</li><li>'發'</li><li>'布'</li><li>'聲明'</li><li>'表示'</li><li>'管理局'</li><li>'主席'</li><li>'雷比'</li><li>'Osama'</li><li>'Rabie'</li><li>'已'</li><li>'宣布'</li><li>'蘇伊士運河'</li><li>'航運'</li><li>'恢復'</li><li>'長榮'</li><li>'晚間'</li><li>'也'</li><li>'發布'</li><li>'新聞稿'</li><li>'指出'</li><li>'接獲'</li><li>'長'</li><li>'賜'</li><li>'輪'</li><li>'船東'</li><li>'通報'</li><li>'這艘'</li><li>'租船'</li><li>'已於'</li><li>'台北'</li><li>'時間'</li><li>'今天'</li><li>'晚間'</li><li>'9'</li><li>'點'</li><li>'左右'</li><li>'埃及'</li><li>'時間'</li><li>'下午'</li><li>'3'</li><li>'時'</li><li>'重新'</li><li>'浮起'</li><li>'並在'</li><li>'拖船'</li><li>'協助'</li><li>'下'</li><li>'順利'</li><li>'移出'</li><li>'原先'</li><li>'擱淺'</li><li>'的'</li><li>'河道'</li><li>'讓'</li><li>'蘇伊士運河'</li><li>'恢復正常'</li><li>'通行'</li><li>'長榮'</li><li>'表示'</li><li>'長'</li><li>'賜'</li><li>'輪'</li><li>'將先'</li><li>'移至'</li><li>'蘇伊士運河'</li><li>'大苦湖'</li><li>'Great'</li><li>'Bitter'</li><li>'Lake'</li><li>'水域'</li><li>'錨地'</li><li>'進行'</li><li>'船舶'</li><li>'適航性'</li><li>'檢驗'</li><li>'這艘'</li><li>'貨櫃'</li><li>'輪'</li><li>'後續'</li><li>'的'</li><li>'航程'</li><li>'以及'</li><li>'貨物'</li><li>'運送'</li><li>'將視驗'</li><li>'船'</li><li>'機構'</li><li>'的'</li><li>'檢驗'</li><li>'結果'</li><li>'進行'</li><li>'必要'</li><li>'調整'</li><li>'與'</li><li>'安排'</li><li>'根據'</li><li>'路透社'</li><li>'雷比'</li><li>'表示'</li><li>'當局'</li><li>'可能'</li><li>'會花'</li><li>'2'</li><li>'天半至'</li><li>'3'</li><li>'天'</li><li>'時間'</li><li>'紓解'</li><li>'塞船'</li><li>'一名'</li><li>'消息人士'</li><li>'也'</li><li>'說'</li><li>'每天'</li><li>'可有'</li><li>'超過'</li><li>'100'</li><li>'艘'</li><li>'船隻'</li><li>'進入'</li><li>'運河'</li><li>'全球'</li><li>'航運'</li><li>'權威'</li><li>'媒體'</li><li>'勞'</li><li>'氏'</li><li>'日報'</li><li>'Lloyd'</li><li>'s'</li><li>'List'</li><li>'稍早'</li><li>'報導'</li><li>'現有'</li><li>'425'</li><li>'艘'</li><li>'船舶'</li><li>'正'</li><li>'等'</li><li>'著'</li><li>'通過'</li><li>'蘇伊士運河'</li><li>'400'</li><li>'公尺'</li><li>'長'</li><li>'的'</li><li>'長'</li><li>'賜'</li><li>'輪'</li><li>'為'</li><li>'2'</li><li>'萬'</li><li>'TEU'</li><li>'級'</li><li>'貨櫃'</li><li>'輪'</li><li>'現由'</li><li>'長榮'</li><li>'海運'</li><li>'以論'</li><li>'時傭船'</li><li>'Time'</li><li>'Charter'</li><li>'方式'</li><li>'向'</li><li>'日本'</li><li>'船東'</li><li>'承租'</li><li>'目前'</li><li>'配'</li><li>'置於'</li><li>'遠東'</li><li>'至'</li><li>'歐洲'</li><li>'航線'</li><li>'長'</li><li>'賜'</li><li>'輪'</li><li>'在'</li><li>'巴拿馬'</li><li>'註冊'</li><li>'本月'</li><li>'23'</li><li>'日'</li><li>'在'</li><li>'強烈'</li><li>'沙塵暴'</li><li>'中'</li><li>'擱淺'</li><li>'於'</li><li>'蘇伊士運河'</li><li>'船身'</li><li>'打斜'</li><li>'堵住'</li><li>'運河'</li><li>'雙向交通'</li><li>'使得'</li><li>'全球'</li><li>'供應鏈'</li><li>'受阻'</li><li>'受'</li><li>'影響'</li><li>'的'</li><li>'每日'</li><li>'貨物運輸'</li><li>'規模'</li><li>'達'</li><li>'90'</li><li>'億美元'</li><li>'約'</li><li>'新'</li><li>'台'</li><li>'幣'</li><li>'2600'</li><li>'億元'</li><li>'以下'</li><li>'為'</li><li>'輪船'</li><li>'今天'</li><li>'脫困'</li><li>'過程'</li><li>'整理'</li><li>'成功'</li><li>'浮起'</li><li>'長'</li><li>'賜'</li><li>'輪'</li><li>'在'</li><li>'蘇伊士運河'</li><li>'受困'</li><li>'各方'</li><li>'紛紛'</li><li>'趕來'</li><li>'救援'</li><li>'掛'</li><li>'荷蘭'</li><li>'旗'</li><li>'的'</li><li>'專業'</li><li>'拖曳'</li><li>'船'</li><li>'Alp'</li><li>'Guard'</li><li>'號'</li><li>'掛'</li><li>'義大利'</li><li>'旗'</li><li>'的'</li><li>'Carlo'</li><li>'Magno'</li><li>'號'</li><li>'28'</li><li>'日'</li><li>'陸續'</li><li>'抵達'</li><li>'事發'</li><li>'現場'</li><li>'附近'</li><li>'這'</li><li>'兩艘'</li><li>'拖曳'</li><li>'船'</li><li>'和'</li><li>'已'</li><li>'在'</li><li>'現場'</li><li>'的'</li><li>'至少'</li><li>'10'</li><li>'艘'</li><li>'拖曳'</li><li>'船'</li><li>'今天'</li><li>'以'</li><li>'拖引'</li><li>'配合'</li><li>'挖泥船'</li><li>'的'</li><li>'挖沙'</li><li>'作業'</li><li>'協助'</li><li>'讓'</li><li>'長'</li><li>'賜'</li><li>'輪'</li><li>'脫困'</li><li>'根據'</li><li>'海上'</li><li>'服務供應商'</li><li>'Inchcape'</li><li>'Shipping'</li><li>'Service'</li><li>'的'</li><li>'電子郵件'</li><li>'長'</li><li>'賜'</li><li>'輪'</li><li>'在'</li><li>'埃及'</li><li>'當地'</li><li>'時間'</li><li>'今天'</li><li>'凌晨'</li><li>'4'</li><li>'時'</li><li>'30'</li><li>'分'</li><li>'左右'</li><li>'台'</li><li>'灣'</li><li>'時間'</li><li>'29'</li><li>'日'</li><li>'上午'</li><li>'10'</li><li>'時'</li><li>'30'</li><li>'分'</li><li>'成功'</li><li>'浮起'</li><li>'雷比'</li><li>'隨後'</li><li>'透過'</li><li>'聲明'</li><li>'表示'</li><li>'這'</li><li>'艘'</li><li>'船'</li><li>'的'</li><li>'方向'</li><li>'已'</li><li>'被'</li><li>'重新'</li><li>'導正'</li><li>'80'</li><li>'船尾'</li><li>'移動'</li><li>'至'</li><li>'距離'</li><li>'岸邊'</li><li>'102'</li><li>'公尺'</li><li>'處'</li><li>'長'</li><li>'賜'</li><li>'輪船'</li><li>'尾'</li><li>'位置'</li><li>'原先'</li><li>'距離'</li><li>'河岸'</li><li>'僅'</li><li>'4'</li><li>'公尺'</li></ol>\n"
            ]
          },
          "metadata": {
            "tags": []
          }
        }
      ]
    },
    {
      "cell_type": "code",
      "metadata": {
        "id": "Nm5mWe5JO5r-"
      },
      "source": [
        "new_words<-c(\"蘇伊士運河\",\"醫療體系\",\"防疫措施\")\n",
        "for(i in 1:length(new_words)){new_user_word(cutter, new_words[i])}"
      ],
      "execution_count": 14,
      "outputs": []
    },
    {
      "cell_type": "code",
      "metadata": {
        "colab": {
          "base_uri": "https://localhost:8080/",
          "height": 420
        },
        "id": "5mjgvVgqP9FQ",
        "outputId": "7ba2df98-0d00-49ab-a02c-f3ada5ea4076"
      },
      "source": [
        "content <- str_remove_all(content,\"[0-9a-zA-Z]+?\")\n",
        "cutter[content]"
      ],
      "execution_count": 15,
      "outputs": [
        {
          "output_type": "display_data",
          "data": {
            "text/plain": [
              "  [1] \"長榮\"       \"海運\"       \"巨型\"       \"貨輪\"       \"長\"        \n",
              "  [6] \"賜輪\"       \"在\"         \"蘇伊士運河\" \"擱淺\"       \"近\"        \n",
              " [11] \"一週\"       \"今天\"       \"終於\"       \"重新\"       \"浮起\"      \n",
              " [16] \"脫困\"       \"運河\"       \"恢復\"       \"開放\"       \"當局\"      \n",
              " [21] \"表示\"       \"可能\"       \"會花\"       \"天半至\"     \"天\"        \n",
              " [26] \"時間\"       \"讓\"         \"等待\"       \"通過\"       \"的\"        \n",
              " [31] \"船舶\"       \"長龍\"       \"淨空\"       \"法新社\"     \"報導\"      \n",
              " [36] \"蘇伊士運河\" \"管理局\"     \"發\"         \"布\"         \"聲明\"      \n",
              " [41] \"表示\"       \"管理局\"     \"主席\"       \"雷比\"       \"已\"        \n",
              " [46] \"宣布\"       \"蘇伊士運河\" \"航運\"       \"恢復\"       \"長榮\"      \n",
              " [51] \"晚間\"       \"也\"         \"發布\"       \"新聞稿\"     \"指出\"      \n",
              " [56] \"接獲\"       \"長\"         \"賜\"         \"輪\"         \"船東\"      \n",
              " [61] \"通報\"       \"這艘\"       \"租船\"       \"已於\"       \"台北\"      \n",
              " [66] \"時間\"       \"今天\"       \"晚間\"       \"點\"         \"左右\"      \n",
              " [71] \"埃及\"       \"時間\"       \"下\"         \"午時\"       \"重新\"      \n",
              " [76] \"浮起\"       \"並在\"       \"拖船\"       \"協助\"       \"下\"        \n",
              " [81] \"順利\"       \"移出\"       \"原先\"       \"擱淺\"       \"的\"        \n",
              " [86] \"河道\"       \"讓\"         \"蘇伊士運河\" \"恢復正常\"   \"通行\"      \n",
              " [91] \"長榮\"       \"表示\"       \"長\"         \"賜\"         \"輪\"        \n",
              " [96] \"將先\"       \"移至\"       \"蘇伊士運河\" \"大苦湖\"     \"水域\"      \n",
              "[101] \"錨地\"       \"進行\"       \"船舶\"       \"適航性\"     \"檢驗\"      \n",
              "[106] \"這艘\"       \"貨櫃\"       \"輪\"         \"後續\"       \"的\"        \n",
              "[111] \"航程\"       \"以及\"       \"貨物\"       \"運送\"       \"將視驗\"    \n",
              "[116] \"船\"         \"機構\"       \"的\"         \"檢驗\"       \"結果\"      \n",
              "[121] \"進行\"       \"必要\"       \"調整\"       \"與\"         \"安排\"      \n",
              "[126] \"根據\"       \"路透社\"     \"雷比\"       \"表示\"       \"當局\"      \n",
              "[131] \"可能\"       \"會花\"       \"天半至\"     \"天\"         \"時間\"      \n",
              "[136] \"紓解\"       \"塞船\"       \"一名\"       \"消息人士\"   \"也\"        \n",
              "[141] \"說\"         \"每天\"       \"可有\"       \"超過\"       \"艘\"        \n",
              "[146] \"船隻\"       \"進入\"       \"運河\"       \"全球\"       \"航運\"      \n",
              "[151] \"權威\"       \"媒體\"       \"勞\"         \"氏\"         \"日報\"      \n",
              "[156] \"稍早\"       \"報導\"       \"現有\"       \"艘\"         \"船舶\"      \n",
              "[161] \"正\"         \"等\"         \"著\"         \"通過\"       \"蘇伊士運河\"\n",
              "[166] \"公尺\"       \"長\"         \"的\"         \"長\"         \"賜\"        \n",
              "[171] \"輪\"         \"為\"         \"萬級\"       \"貨櫃\"       \"輪\"        \n",
              "[176] \"現由\"       \"長榮\"       \"海運\"       \"以論\"       \"時傭船\"    \n",
              "[181] \"方式\"       \"向\"         \"日本\"       \"船東\"       \"承租\"      \n",
              "[186] \"目前\"       \"配\"         \"置於\"       \"遠東\"       \"至\"        \n",
              "[191] \"歐洲\"       \"航線\"       \"長\"         \"賜\"         \"輪\"        \n",
              "[196] \"在\"         \"巴拿馬\"     \"註冊\"       \"本月\"       \"日\"        \n",
              "[201] \"在\"         \"強烈\"       \"沙塵暴\"     \"中\"         \"擱淺\"      \n",
              "[206] \"於\"         \"蘇伊士運河\" \"船身\"       \"打斜\"       \"堵住\"      \n",
              "[211] \"運河\"       \"雙向交通\"   \"使得\"       \"全球\"       \"供應鏈\"    \n",
              "[216] \"受阻\"       \"受\"         \"影響\"       \"的\"         \"每日\"      \n",
              "[221] \"貨物運輸\"   \"規模\"       \"達\"         \"億美元\"     \"約\"        \n",
              "[226] \"新\"         \"台\"         \"幣\"         \"億元\"       \"以下\"      \n",
              "[231] \"為\"         \"輪船\"       \"今天\"       \"脫困\"       \"過程\"      \n",
              "[236] \"整理\"       \"成功\"       \"浮起\"       \"長\"         \"賜\"        \n",
              "[241] \"輪\"         \"在\"         \"蘇伊士運河\" \"受困\"       \"各方\"      \n",
              "[246] \"紛紛\"       \"趕來\"       \"救援\"       \"掛\"         \"荷蘭\"      \n",
              "[251] \"旗\"         \"的\"         \"專業\"       \"拖曳\"       \"船\"        \n",
              "[256] \"號\"         \"掛\"         \"義大利\"     \"旗\"         \"的\"        \n",
              "[261] \"號日\"       \"陸續\"       \"抵達\"       \"事發\"       \"現場\"      \n",
              "[266] \"附近\"       \"這\"         \"兩艘\"       \"拖曳\"       \"船\"        \n",
              "[271] \"和\"         \"已\"         \"在\"         \"現場\"       \"的\"        \n",
              "[276] \"至少\"       \"艘\"         \"拖曳\"       \"船\"         \"今天\"      \n",
              "[281] \"以\"         \"拖引\"       \"配合\"       \"挖泥船\"     \"的\"        \n",
              "[286] \"挖沙\"       \"作業\"       \"協助\"       \"讓\"         \"長\"        \n",
              "[291] \"賜\"         \"輪\"         \"脫困\"       \"根據\"       \"海上\"      \n",
              "[296] \"服務供應商\" \"的\"         \"電子郵件\"   \"長\"         \"賜\"        \n",
              "[301] \"輪\"         \"在\"         \"埃及\"       \"當地\"       \"時間\"      \n",
              "[306] \"今天\"       \"凌晨時分\"   \"左右\"       \"台\"         \"灣\"        \n",
              "[311] \"時間\"       \"日\"         \"上午\"       \"時分\"       \"成功\"      \n",
              "[316] \"浮起\"       \"雷比\"       \"隨後\"       \"透過\"       \"聲明\"      \n",
              "[321] \"表示\"       \"這\"         \"艘\"         \"船\"         \"的\"        \n",
              "[326] \"方向\"       \"已\"         \"被\"         \"重新\"       \"導正\"      \n",
              "[331] \"船尾\"       \"移動\"       \"至\"         \"距離\"       \"岸邊\"      \n",
              "[336] \"公尺\"       \"處\"         \"長\"         \"賜\"         \"輪船\"      \n",
              "[341] \"尾\"         \"位置\"       \"原先\"       \"距離\"       \"河岸\"      \n",
              "[346] \"僅\"         \"公尺\"      "
            ],
            "text/latex": "\\begin{enumerate*}\n\\item '長榮'\n\\item '海運'\n\\item '巨型'\n\\item '貨輪'\n\\item '長'\n\\item '賜輪'\n\\item '在'\n\\item '蘇伊士運河'\n\\item '擱淺'\n\\item '近'\n\\item '一週'\n\\item '今天'\n\\item '終於'\n\\item '重新'\n\\item '浮起'\n\\item '脫困'\n\\item '運河'\n\\item '恢復'\n\\item '開放'\n\\item '當局'\n\\item '表示'\n\\item '可能'\n\\item '會花'\n\\item '天半至'\n\\item '天'\n\\item '時間'\n\\item '讓'\n\\item '等待'\n\\item '通過'\n\\item '的'\n\\item '船舶'\n\\item '長龍'\n\\item '淨空'\n\\item '法新社'\n\\item '報導'\n\\item '蘇伊士運河'\n\\item '管理局'\n\\item '發'\n\\item '布'\n\\item '聲明'\n\\item '表示'\n\\item '管理局'\n\\item '主席'\n\\item '雷比'\n\\item '已'\n\\item '宣布'\n\\item '蘇伊士運河'\n\\item '航運'\n\\item '恢復'\n\\item '長榮'\n\\item '晚間'\n\\item '也'\n\\item '發布'\n\\item '新聞稿'\n\\item '指出'\n\\item '接獲'\n\\item '長'\n\\item '賜'\n\\item '輪'\n\\item '船東'\n\\item '通報'\n\\item '這艘'\n\\item '租船'\n\\item '已於'\n\\item '台北'\n\\item '時間'\n\\item '今天'\n\\item '晚間'\n\\item '點'\n\\item '左右'\n\\item '埃及'\n\\item '時間'\n\\item '下'\n\\item '午時'\n\\item '重新'\n\\item '浮起'\n\\item '並在'\n\\item '拖船'\n\\item '協助'\n\\item '下'\n\\item '順利'\n\\item '移出'\n\\item '原先'\n\\item '擱淺'\n\\item '的'\n\\item '河道'\n\\item '讓'\n\\item '蘇伊士運河'\n\\item '恢復正常'\n\\item '通行'\n\\item '長榮'\n\\item '表示'\n\\item '長'\n\\item '賜'\n\\item '輪'\n\\item '將先'\n\\item '移至'\n\\item '蘇伊士運河'\n\\item '大苦湖'\n\\item '水域'\n\\item '錨地'\n\\item '進行'\n\\item '船舶'\n\\item '適航性'\n\\item '檢驗'\n\\item '這艘'\n\\item '貨櫃'\n\\item '輪'\n\\item '後續'\n\\item '的'\n\\item '航程'\n\\item '以及'\n\\item '貨物'\n\\item '運送'\n\\item '將視驗'\n\\item '船'\n\\item '機構'\n\\item '的'\n\\item '檢驗'\n\\item '結果'\n\\item '進行'\n\\item '必要'\n\\item '調整'\n\\item '與'\n\\item '安排'\n\\item '根據'\n\\item '路透社'\n\\item '雷比'\n\\item '表示'\n\\item '當局'\n\\item '可能'\n\\item '會花'\n\\item '天半至'\n\\item '天'\n\\item '時間'\n\\item '紓解'\n\\item '塞船'\n\\item '一名'\n\\item '消息人士'\n\\item '也'\n\\item '說'\n\\item '每天'\n\\item '可有'\n\\item '超過'\n\\item '艘'\n\\item '船隻'\n\\item '進入'\n\\item '運河'\n\\item '全球'\n\\item '航運'\n\\item '權威'\n\\item '媒體'\n\\item '勞'\n\\item '氏'\n\\item '日報'\n\\item '稍早'\n\\item '報導'\n\\item '現有'\n\\item '艘'\n\\item '船舶'\n\\item '正'\n\\item '等'\n\\item '著'\n\\item '通過'\n\\item '蘇伊士運河'\n\\item '公尺'\n\\item '長'\n\\item '的'\n\\item '長'\n\\item '賜'\n\\item '輪'\n\\item '為'\n\\item '萬級'\n\\item '貨櫃'\n\\item '輪'\n\\item '現由'\n\\item '長榮'\n\\item '海運'\n\\item '以論'\n\\item '時傭船'\n\\item '方式'\n\\item '向'\n\\item '日本'\n\\item '船東'\n\\item '承租'\n\\item '目前'\n\\item '配'\n\\item '置於'\n\\item '遠東'\n\\item '至'\n\\item '歐洲'\n\\item '航線'\n\\item '長'\n\\item '賜'\n\\item '輪'\n\\item '在'\n\\item '巴拿馬'\n\\item '註冊'\n\\item '本月'\n\\item '日'\n\\item '在'\n\\item '強烈'\n\\item '沙塵暴'\n\\item '中'\n\\item '擱淺'\n\\item '於'\n\\item '蘇伊士運河'\n\\item '船身'\n\\item '打斜'\n\\item '堵住'\n\\item '運河'\n\\item '雙向交通'\n\\item '使得'\n\\item '全球'\n\\item '供應鏈'\n\\item '受阻'\n\\item '受'\n\\item '影響'\n\\item '的'\n\\item '每日'\n\\item '貨物運輸'\n\\item '規模'\n\\item '達'\n\\item '億美元'\n\\item '約'\n\\item '新'\n\\item '台'\n\\item '幣'\n\\item '億元'\n\\item '以下'\n\\item '為'\n\\item '輪船'\n\\item '今天'\n\\item '脫困'\n\\item '過程'\n\\item '整理'\n\\item '成功'\n\\item '浮起'\n\\item '長'\n\\item '賜'\n\\item '輪'\n\\item '在'\n\\item '蘇伊士運河'\n\\item '受困'\n\\item '各方'\n\\item '紛紛'\n\\item '趕來'\n\\item '救援'\n\\item '掛'\n\\item '荷蘭'\n\\item '旗'\n\\item '的'\n\\item '專業'\n\\item '拖曳'\n\\item '船'\n\\item '號'\n\\item '掛'\n\\item '義大利'\n\\item '旗'\n\\item '的'\n\\item '號日'\n\\item '陸續'\n\\item '抵達'\n\\item '事發'\n\\item '現場'\n\\item '附近'\n\\item '這'\n\\item '兩艘'\n\\item '拖曳'\n\\item '船'\n\\item '和'\n\\item '已'\n\\item '在'\n\\item '現場'\n\\item '的'\n\\item '至少'\n\\item '艘'\n\\item '拖曳'\n\\item '船'\n\\item '今天'\n\\item '以'\n\\item '拖引'\n\\item '配合'\n\\item '挖泥船'\n\\item '的'\n\\item '挖沙'\n\\item '作業'\n\\item '協助'\n\\item '讓'\n\\item '長'\n\\item '賜'\n\\item '輪'\n\\item '脫困'\n\\item '根據'\n\\item '海上'\n\\item '服務供應商'\n\\item '的'\n\\item '電子郵件'\n\\item '長'\n\\item '賜'\n\\item '輪'\n\\item '在'\n\\item '埃及'\n\\item '當地'\n\\item '時間'\n\\item '今天'\n\\item '凌晨時分'\n\\item '左右'\n\\item '台'\n\\item '灣'\n\\item '時間'\n\\item '日'\n\\item '上午'\n\\item '時分'\n\\item '成功'\n\\item '浮起'\n\\item '雷比'\n\\item '隨後'\n\\item '透過'\n\\item '聲明'\n\\item '表示'\n\\item '這'\n\\item '艘'\n\\item '船'\n\\item '的'\n\\item '方向'\n\\item '已'\n\\item '被'\n\\item '重新'\n\\item '導正'\n\\item '船尾'\n\\item '移動'\n\\item '至'\n\\item '距離'\n\\item '岸邊'\n\\item '公尺'\n\\item '處'\n\\item '長'\n\\item '賜'\n\\item '輪船'\n\\item '尾'\n\\item '位置'\n\\item '原先'\n\\item '距離'\n\\item '河岸'\n\\item '僅'\n\\item '公尺'\n\\end{enumerate*}\n",
            "text/markdown": "1. '長榮'\n2. '海運'\n3. '巨型'\n4. '貨輪'\n5. '長'\n6. '賜輪'\n7. '在'\n8. '蘇伊士運河'\n9. '擱淺'\n10. '近'\n11. '一週'\n12. '今天'\n13. '終於'\n14. '重新'\n15. '浮起'\n16. '脫困'\n17. '運河'\n18. '恢復'\n19. '開放'\n20. '當局'\n21. '表示'\n22. '可能'\n23. '會花'\n24. '天半至'\n25. '天'\n26. '時間'\n27. '讓'\n28. '等待'\n29. '通過'\n30. '的'\n31. '船舶'\n32. '長龍'\n33. '淨空'\n34. '法新社'\n35. '報導'\n36. '蘇伊士運河'\n37. '管理局'\n38. '發'\n39. '布'\n40. '聲明'\n41. '表示'\n42. '管理局'\n43. '主席'\n44. '雷比'\n45. '已'\n46. '宣布'\n47. '蘇伊士運河'\n48. '航運'\n49. '恢復'\n50. '長榮'\n51. '晚間'\n52. '也'\n53. '發布'\n54. '新聞稿'\n55. '指出'\n56. '接獲'\n57. '長'\n58. '賜'\n59. '輪'\n60. '船東'\n61. '通報'\n62. '這艘'\n63. '租船'\n64. '已於'\n65. '台北'\n66. '時間'\n67. '今天'\n68. '晚間'\n69. '點'\n70. '左右'\n71. '埃及'\n72. '時間'\n73. '下'\n74. '午時'\n75. '重新'\n76. '浮起'\n77. '並在'\n78. '拖船'\n79. '協助'\n80. '下'\n81. '順利'\n82. '移出'\n83. '原先'\n84. '擱淺'\n85. '的'\n86. '河道'\n87. '讓'\n88. '蘇伊士運河'\n89. '恢復正常'\n90. '通行'\n91. '長榮'\n92. '表示'\n93. '長'\n94. '賜'\n95. '輪'\n96. '將先'\n97. '移至'\n98. '蘇伊士運河'\n99. '大苦湖'\n100. '水域'\n101. '錨地'\n102. '進行'\n103. '船舶'\n104. '適航性'\n105. '檢驗'\n106. '這艘'\n107. '貨櫃'\n108. '輪'\n109. '後續'\n110. '的'\n111. '航程'\n112. '以及'\n113. '貨物'\n114. '運送'\n115. '將視驗'\n116. '船'\n117. '機構'\n118. '的'\n119. '檢驗'\n120. '結果'\n121. '進行'\n122. '必要'\n123. '調整'\n124. '與'\n125. '安排'\n126. '根據'\n127. '路透社'\n128. '雷比'\n129. '表示'\n130. '當局'\n131. '可能'\n132. '會花'\n133. '天半至'\n134. '天'\n135. '時間'\n136. '紓解'\n137. '塞船'\n138. '一名'\n139. '消息人士'\n140. '也'\n141. '說'\n142. '每天'\n143. '可有'\n144. '超過'\n145. '艘'\n146. '船隻'\n147. '進入'\n148. '運河'\n149. '全球'\n150. '航運'\n151. '權威'\n152. '媒體'\n153. '勞'\n154. '氏'\n155. '日報'\n156. '稍早'\n157. '報導'\n158. '現有'\n159. '艘'\n160. '船舶'\n161. '正'\n162. '等'\n163. '著'\n164. '通過'\n165. '蘇伊士運河'\n166. '公尺'\n167. '長'\n168. '的'\n169. '長'\n170. '賜'\n171. '輪'\n172. '為'\n173. '萬級'\n174. '貨櫃'\n175. '輪'\n176. '現由'\n177. '長榮'\n178. '海運'\n179. '以論'\n180. '時傭船'\n181. '方式'\n182. '向'\n183. '日本'\n184. '船東'\n185. '承租'\n186. '目前'\n187. '配'\n188. '置於'\n189. '遠東'\n190. '至'\n191. '歐洲'\n192. '航線'\n193. '長'\n194. '賜'\n195. '輪'\n196. '在'\n197. '巴拿馬'\n198. '註冊'\n199. '本月'\n200. '日'\n201. '在'\n202. '強烈'\n203. '沙塵暴'\n204. '中'\n205. '擱淺'\n206. '於'\n207. '蘇伊士運河'\n208. '船身'\n209. '打斜'\n210. '堵住'\n211. '運河'\n212. '雙向交通'\n213. '使得'\n214. '全球'\n215. '供應鏈'\n216. '受阻'\n217. '受'\n218. '影響'\n219. '的'\n220. '每日'\n221. '貨物運輸'\n222. '規模'\n223. '達'\n224. '億美元'\n225. '約'\n226. '新'\n227. '台'\n228. '幣'\n229. '億元'\n230. '以下'\n231. '為'\n232. '輪船'\n233. '今天'\n234. '脫困'\n235. '過程'\n236. '整理'\n237. '成功'\n238. '浮起'\n239. '長'\n240. '賜'\n241. '輪'\n242. '在'\n243. '蘇伊士運河'\n244. '受困'\n245. '各方'\n246. '紛紛'\n247. '趕來'\n248. '救援'\n249. '掛'\n250. '荷蘭'\n251. '旗'\n252. '的'\n253. '專業'\n254. '拖曳'\n255. '船'\n256. '號'\n257. '掛'\n258. '義大利'\n259. '旗'\n260. '的'\n261. '號日'\n262. '陸續'\n263. '抵達'\n264. '事發'\n265. '現場'\n266. '附近'\n267. '這'\n268. '兩艘'\n269. '拖曳'\n270. '船'\n271. '和'\n272. '已'\n273. '在'\n274. '現場'\n275. '的'\n276. '至少'\n277. '艘'\n278. '拖曳'\n279. '船'\n280. '今天'\n281. '以'\n282. '拖引'\n283. '配合'\n284. '挖泥船'\n285. '的'\n286. '挖沙'\n287. '作業'\n288. '協助'\n289. '讓'\n290. '長'\n291. '賜'\n292. '輪'\n293. '脫困'\n294. '根據'\n295. '海上'\n296. '服務供應商'\n297. '的'\n298. '電子郵件'\n299. '長'\n300. '賜'\n301. '輪'\n302. '在'\n303. '埃及'\n304. '當地'\n305. '時間'\n306. '今天'\n307. '凌晨時分'\n308. '左右'\n309. '台'\n310. '灣'\n311. '時間'\n312. '日'\n313. '上午'\n314. '時分'\n315. '成功'\n316. '浮起'\n317. '雷比'\n318. '隨後'\n319. '透過'\n320. '聲明'\n321. '表示'\n322. '這'\n323. '艘'\n324. '船'\n325. '的'\n326. '方向'\n327. '已'\n328. '被'\n329. '重新'\n330. '導正'\n331. '船尾'\n332. '移動'\n333. '至'\n334. '距離'\n335. '岸邊'\n336. '公尺'\n337. '處'\n338. '長'\n339. '賜'\n340. '輪船'\n341. '尾'\n342. '位置'\n343. '原先'\n344. '距離'\n345. '河岸'\n346. '僅'\n347. '公尺'\n\n\n",
            "text/html": [
              "<style>\n",
              ".list-inline {list-style: none; margin:0; padding: 0}\n",
              ".list-inline>li {display: inline-block}\n",
              ".list-inline>li:not(:last-child)::after {content: \"\\00b7\"; padding: 0 .5ex}\n",
              "</style>\n",
              "<ol class=list-inline><li>'長榮'</li><li>'海運'</li><li>'巨型'</li><li>'貨輪'</li><li>'長'</li><li>'賜輪'</li><li>'在'</li><li>'蘇伊士運河'</li><li>'擱淺'</li><li>'近'</li><li>'一週'</li><li>'今天'</li><li>'終於'</li><li>'重新'</li><li>'浮起'</li><li>'脫困'</li><li>'運河'</li><li>'恢復'</li><li>'開放'</li><li>'當局'</li><li>'表示'</li><li>'可能'</li><li>'會花'</li><li>'天半至'</li><li>'天'</li><li>'時間'</li><li>'讓'</li><li>'等待'</li><li>'通過'</li><li>'的'</li><li>'船舶'</li><li>'長龍'</li><li>'淨空'</li><li>'法新社'</li><li>'報導'</li><li>'蘇伊士運河'</li><li>'管理局'</li><li>'發'</li><li>'布'</li><li>'聲明'</li><li>'表示'</li><li>'管理局'</li><li>'主席'</li><li>'雷比'</li><li>'已'</li><li>'宣布'</li><li>'蘇伊士運河'</li><li>'航運'</li><li>'恢復'</li><li>'長榮'</li><li>'晚間'</li><li>'也'</li><li>'發布'</li><li>'新聞稿'</li><li>'指出'</li><li>'接獲'</li><li>'長'</li><li>'賜'</li><li>'輪'</li><li>'船東'</li><li>'通報'</li><li>'這艘'</li><li>'租船'</li><li>'已於'</li><li>'台北'</li><li>'時間'</li><li>'今天'</li><li>'晚間'</li><li>'點'</li><li>'左右'</li><li>'埃及'</li><li>'時間'</li><li>'下'</li><li>'午時'</li><li>'重新'</li><li>'浮起'</li><li>'並在'</li><li>'拖船'</li><li>'協助'</li><li>'下'</li><li>'順利'</li><li>'移出'</li><li>'原先'</li><li>'擱淺'</li><li>'的'</li><li>'河道'</li><li>'讓'</li><li>'蘇伊士運河'</li><li>'恢復正常'</li><li>'通行'</li><li>'長榮'</li><li>'表示'</li><li>'長'</li><li>'賜'</li><li>'輪'</li><li>'將先'</li><li>'移至'</li><li>'蘇伊士運河'</li><li>'大苦湖'</li><li>'水域'</li><li>'錨地'</li><li>'進行'</li><li>'船舶'</li><li>'適航性'</li><li>'檢驗'</li><li>'這艘'</li><li>'貨櫃'</li><li>'輪'</li><li>'後續'</li><li>'的'</li><li>'航程'</li><li>'以及'</li><li>'貨物'</li><li>'運送'</li><li>'將視驗'</li><li>'船'</li><li>'機構'</li><li>'的'</li><li>'檢驗'</li><li>'結果'</li><li>'進行'</li><li>'必要'</li><li>'調整'</li><li>'與'</li><li>'安排'</li><li>'根據'</li><li>'路透社'</li><li>'雷比'</li><li>'表示'</li><li>'當局'</li><li>'可能'</li><li>'會花'</li><li>'天半至'</li><li>'天'</li><li>'時間'</li><li>'紓解'</li><li>'塞船'</li><li>'一名'</li><li>'消息人士'</li><li>'也'</li><li>'說'</li><li>'每天'</li><li>'可有'</li><li>'超過'</li><li>'艘'</li><li>'船隻'</li><li>'進入'</li><li>'運河'</li><li>'全球'</li><li>'航運'</li><li>'權威'</li><li>'媒體'</li><li>'勞'</li><li>'氏'</li><li>'日報'</li><li>'稍早'</li><li>'報導'</li><li>'現有'</li><li>'艘'</li><li>'船舶'</li><li>'正'</li><li>'等'</li><li>'著'</li><li>'通過'</li><li>'蘇伊士運河'</li><li>'公尺'</li><li>'長'</li><li>'的'</li><li>'長'</li><li>'賜'</li><li>'輪'</li><li>'為'</li><li>'萬級'</li><li>'貨櫃'</li><li>'輪'</li><li>'現由'</li><li>'長榮'</li><li>'海運'</li><li>'以論'</li><li>'時傭船'</li><li>'方式'</li><li>'向'</li><li>'日本'</li><li>'船東'</li><li>'承租'</li><li>'目前'</li><li>'配'</li><li>'置於'</li><li>'遠東'</li><li>'至'</li><li>'歐洲'</li><li>'航線'</li><li>'長'</li><li>'賜'</li><li>'輪'</li><li>'在'</li><li>'巴拿馬'</li><li>'註冊'</li><li>'本月'</li><li>'日'</li><li>'在'</li><li>'強烈'</li><li>'沙塵暴'</li><li>'中'</li><li>'擱淺'</li><li>'於'</li><li>'蘇伊士運河'</li><li>'船身'</li><li>'打斜'</li><li>'堵住'</li><li>'運河'</li><li>'雙向交通'</li><li>'使得'</li><li>'全球'</li><li>'供應鏈'</li><li>'受阻'</li><li>'受'</li><li>'影響'</li><li>'的'</li><li>'每日'</li><li>'貨物運輸'</li><li>'規模'</li><li>'達'</li><li>'億美元'</li><li>'約'</li><li>'新'</li><li>'台'</li><li>'幣'</li><li>'億元'</li><li>'以下'</li><li>'為'</li><li>'輪船'</li><li>'今天'</li><li>'脫困'</li><li>'過程'</li><li>'整理'</li><li>'成功'</li><li>'浮起'</li><li>'長'</li><li>'賜'</li><li>'輪'</li><li>'在'</li><li>'蘇伊士運河'</li><li>'受困'</li><li>'各方'</li><li>'紛紛'</li><li>'趕來'</li><li>'救援'</li><li>'掛'</li><li>'荷蘭'</li><li>'旗'</li><li>'的'</li><li>'專業'</li><li>'拖曳'</li><li>'船'</li><li>'號'</li><li>'掛'</li><li>'義大利'</li><li>'旗'</li><li>'的'</li><li>'號日'</li><li>'陸續'</li><li>'抵達'</li><li>'事發'</li><li>'現場'</li><li>'附近'</li><li>'這'</li><li>'兩艘'</li><li>'拖曳'</li><li>'船'</li><li>'和'</li><li>'已'</li><li>'在'</li><li>'現場'</li><li>'的'</li><li>'至少'</li><li>'艘'</li><li>'拖曳'</li><li>'船'</li><li>'今天'</li><li>'以'</li><li>'拖引'</li><li>'配合'</li><li>'挖泥船'</li><li>'的'</li><li>'挖沙'</li><li>'作業'</li><li>'協助'</li><li>'讓'</li><li>'長'</li><li>'賜'</li><li>'輪'</li><li>'脫困'</li><li>'根據'</li><li>'海上'</li><li>'服務供應商'</li><li>'的'</li><li>'電子郵件'</li><li>'長'</li><li>'賜'</li><li>'輪'</li><li>'在'</li><li>'埃及'</li><li>'當地'</li><li>'時間'</li><li>'今天'</li><li>'凌晨時分'</li><li>'左右'</li><li>'台'</li><li>'灣'</li><li>'時間'</li><li>'日'</li><li>'上午'</li><li>'時分'</li><li>'成功'</li><li>'浮起'</li><li>'雷比'</li><li>'隨後'</li><li>'透過'</li><li>'聲明'</li><li>'表示'</li><li>'這'</li><li>'艘'</li><li>'船'</li><li>'的'</li><li>'方向'</li><li>'已'</li><li>'被'</li><li>'重新'</li><li>'導正'</li><li>'船尾'</li><li>'移動'</li><li>'至'</li><li>'距離'</li><li>'岸邊'</li><li>'公尺'</li><li>'處'</li><li>'長'</li><li>'賜'</li><li>'輪船'</li><li>'尾'</li><li>'位置'</li><li>'原先'</li><li>'距離'</li><li>'河岸'</li><li>'僅'</li><li>'公尺'</li></ol>\n"
            ]
          },
          "metadata": {
            "tags": []
          }
        }
      ]
    },
    {
      "cell_type": "code",
      "metadata": {
        "id": "BDtrrCl7Q6dW"
      },
      "source": [
        "new_words<-c(\"長榮海運\",\"巨型貨輪\",\"長賜輪\",\"近一周\",\"發布\",\"下午\",\"新台幣\",\"防疫措施\")\n",
        "writeLines(new_words, \"new_words.txt\")"
      ],
      "execution_count": 37,
      "outputs": []
    },
    {
      "cell_type": "code",
      "metadata": {
        "id": "xnUs_-C6RUUx"
      },
      "source": [
        "stop_words<-c(\"已\",\"的\",\"也\",\"與\",\"讓\",\"說\",\"中\",\"以\",\"為\",\"在\")\n",
        "writeLines(stop_words,\"stop_words.txt\")"
      ],
      "execution_count": 38,
      "outputs": []
    },
    {
      "cell_type": "code",
      "metadata": {
        "colab": {
          "base_uri": "https://localhost:8080/",
          "height": 386
        },
        "id": "v2-T4rY1R1hI",
        "outputId": "d960bf03-9626-4a0f-aca6-3aa07736e993"
      },
      "source": [
        "cutter<-worker(user = \"new_words.txt\",stop_word = \"stop_words.txt\",bylines=FALSE)\n",
        "seg_words<-cutter[content]\n",
        "seg_words"
      ],
      "execution_count": 39,
      "outputs": [
        {
          "output_type": "display_data",
          "data": {
            "text/plain": [
              "  [1] \"長榮海運\"   \"巨型貨輪\"   \"長賜輪\"     \"蘇伊士運河\" \"擱淺\"      \n",
              "  [6] \"近\"         \"一週\"       \"今天\"       \"終於\"       \"重新\"      \n",
              " [11] \"浮起\"       \"脫困\"       \"運河\"       \"恢復\"       \"開放\"      \n",
              " [16] \"當局\"       \"表示\"       \"可能\"       \"會花\"       \"天半至\"    \n",
              " [21] \"天\"         \"時間\"       \"等待\"       \"通過\"       \"船舶\"      \n",
              " [26] \"長龍\"       \"淨空\"       \"法新社\"     \"報導\"       \"蘇伊士運河\"\n",
              " [31] \"管理局\"     \"發布\"       \"聲明\"       \"表示\"       \"管理局\"    \n",
              " [36] \"主席\"       \"雷比\"       \"宣布\"       \"蘇伊士運河\" \"航運\"      \n",
              " [41] \"恢復\"       \"長榮\"       \"晚間\"       \"發布\"       \"新聞稿\"    \n",
              " [46] \"指出\"       \"接獲\"       \"長賜輪\"     \"船東\"       \"通報\"      \n",
              " [51] \"這艘\"       \"租船\"       \"已於\"       \"台北\"       \"時間\"      \n",
              " [56] \"今天\"       \"晚間\"       \"點\"         \"左右\"       \"埃及\"      \n",
              " [61] \"時間\"       \"下\"         \"午時\"       \"重新\"       \"浮起\"      \n",
              " [66] \"並在\"       \"拖船\"       \"協助\"       \"下\"         \"順利\"      \n",
              " [71] \"移出\"       \"原先\"       \"擱淺\"       \"河道\"       \"蘇伊士運河\"\n",
              " [76] \"恢復正常\"   \"通行\"       \"長榮\"       \"表示\"       \"長賜輪\"    \n",
              " [81] \"將先\"       \"移至\"       \"蘇伊士運河\" \"大苦湖\"     \"水域\"      \n",
              " [86] \"錨地\"       \"進行\"       \"船舶\"       \"適航性\"     \"檢驗\"      \n",
              " [91] \"這艘\"       \"貨櫃\"       \"輪\"         \"後續\"       \"航程\"      \n",
              " [96] \"以及\"       \"貨物\"       \"運送\"       \"將視驗\"     \"船\"        \n",
              "[101] \"機構\"       \"檢驗\"       \"結果\"       \"進行\"       \"必要\"      \n",
              "[106] \"調整\"       \"安排\"       \"根據\"       \"路透社\"     \"雷比\"      \n",
              "[111] \"表示\"       \"當局\"       \"可能\"       \"會花\"       \"天半至\"    \n",
              "[116] \"天\"         \"時間\"       \"紓解\"       \"塞船\"       \"一名\"      \n",
              "[121] \"消息人士\"   \"每天\"       \"可有\"       \"超過\"       \"艘\"        \n",
              "[126] \"船隻\"       \"進入\"       \"運河\"       \"全球\"       \"航運\"      \n",
              "[131] \"權威\"       \"媒體\"       \"勞\"         \"氏\"         \"日報\"      \n",
              "[136] \"稍早\"       \"報導\"       \"現有\"       \"艘\"         \"船舶\"      \n",
              "[141] \"正\"         \"等\"         \"著\"         \"通過\"       \"蘇伊士運河\"\n",
              "[146] \"公尺\"       \"長\"         \"長賜輪\"     \"萬級\"       \"貨櫃\"      \n",
              "[151] \"輪\"         \"現由\"       \"長榮海運\"   \"以論\"       \"時傭船\"    \n",
              "[156] \"方式\"       \"向\"         \"日本\"       \"船東\"       \"承租\"      \n",
              "[161] \"目前\"       \"配\"         \"置於\"       \"遠東\"       \"至\"        \n",
              "[166] \"歐洲\"       \"航線\"       \"長賜輪\"     \"巴拿馬\"     \"註冊\"      \n",
              "[171] \"本月\"       \"日\"         \"強烈\"       \"沙塵暴\"     \"擱淺\"      \n",
              "[176] \"於\"         \"蘇伊士運河\" \"船身\"       \"打斜\"       \"堵住\"      \n",
              "[181] \"運河\"       \"雙向交通\"   \"使得\"       \"全球\"       \"供應鏈\"    \n",
              "[186] \"受阻\"       \"受\"         \"影響\"       \"每日\"       \"貨物運輸\"  \n",
              "[191] \"規模\"       \"達\"         \"億美元\"     \"約\"         \"新台幣\"    \n",
              "[196] \"億元\"       \"以下\"       \"輪船\"       \"今天\"       \"脫困\"      \n",
              "[201] \"過程\"       \"整理\"       \"成功\"       \"浮起\"       \"長賜輪\"    \n",
              "[206] \"蘇伊士運河\" \"受困\"       \"各方\"       \"紛紛\"       \"趕來\"      \n",
              "[211] \"救援\"       \"掛\"         \"荷蘭\"       \"旗\"         \"專業\"      \n",
              "[216] \"拖曳\"       \"船\"         \"號\"         \"掛\"         \"義大利\"    \n",
              "[221] \"旗\"         \"號日\"       \"陸續\"       \"抵達\"       \"事發\"      \n",
              "[226] \"現場\"       \"附近\"       \"這\"         \"兩艘\"       \"拖曳\"      \n",
              "[231] \"船\"         \"和\"         \"現場\"       \"至少\"       \"艘\"        \n",
              "[236] \"拖曳\"       \"船\"         \"今天\"       \"拖引\"       \"配合\"      \n",
              "[241] \"挖泥船\"     \"挖沙\"       \"作業\"       \"協助\"       \"長賜輪\"    \n",
              "[246] \"脫困\"       \"根據\"       \"海上\"       \"服務供應商\" \"電子郵件\"  \n",
              "[251] \"長賜輪\"     \"埃及\"       \"當地\"       \"時間\"       \"今天\"      \n",
              "[256] \"凌晨時分\"   \"左右\"       \"台\"         \"灣\"         \"時間\"      \n",
              "[261] \"日\"         \"上午\"       \"時分\"       \"成功\"       \"浮起\"      \n",
              "[266] \"雷比\"       \"隨後\"       \"透過\"       \"聲明\"       \"表示\"      \n",
              "[271] \"這\"         \"艘\"         \"船\"         \"方向\"       \"被\"        \n",
              "[276] \"重新\"       \"導正\"       \"船尾\"       \"移動\"       \"至\"        \n",
              "[281] \"距離\"       \"岸邊\"       \"公尺\"       \"處\"         \"長賜輪\"    \n",
              "[286] \"船尾\"       \"位置\"       \"原先\"       \"距離\"       \"河岸\"      \n",
              "[291] \"僅\"         \"公尺\"      "
            ],
            "text/latex": "\\begin{enumerate*}\n\\item '長榮海運'\n\\item '巨型貨輪'\n\\item '長賜輪'\n\\item '蘇伊士運河'\n\\item '擱淺'\n\\item '近'\n\\item '一週'\n\\item '今天'\n\\item '終於'\n\\item '重新'\n\\item '浮起'\n\\item '脫困'\n\\item '運河'\n\\item '恢復'\n\\item '開放'\n\\item '當局'\n\\item '表示'\n\\item '可能'\n\\item '會花'\n\\item '天半至'\n\\item '天'\n\\item '時間'\n\\item '等待'\n\\item '通過'\n\\item '船舶'\n\\item '長龍'\n\\item '淨空'\n\\item '法新社'\n\\item '報導'\n\\item '蘇伊士運河'\n\\item '管理局'\n\\item '發布'\n\\item '聲明'\n\\item '表示'\n\\item '管理局'\n\\item '主席'\n\\item '雷比'\n\\item '宣布'\n\\item '蘇伊士運河'\n\\item '航運'\n\\item '恢復'\n\\item '長榮'\n\\item '晚間'\n\\item '發布'\n\\item '新聞稿'\n\\item '指出'\n\\item '接獲'\n\\item '長賜輪'\n\\item '船東'\n\\item '通報'\n\\item '這艘'\n\\item '租船'\n\\item '已於'\n\\item '台北'\n\\item '時間'\n\\item '今天'\n\\item '晚間'\n\\item '點'\n\\item '左右'\n\\item '埃及'\n\\item '時間'\n\\item '下'\n\\item '午時'\n\\item '重新'\n\\item '浮起'\n\\item '並在'\n\\item '拖船'\n\\item '協助'\n\\item '下'\n\\item '順利'\n\\item '移出'\n\\item '原先'\n\\item '擱淺'\n\\item '河道'\n\\item '蘇伊士運河'\n\\item '恢復正常'\n\\item '通行'\n\\item '長榮'\n\\item '表示'\n\\item '長賜輪'\n\\item '將先'\n\\item '移至'\n\\item '蘇伊士運河'\n\\item '大苦湖'\n\\item '水域'\n\\item '錨地'\n\\item '進行'\n\\item '船舶'\n\\item '適航性'\n\\item '檢驗'\n\\item '這艘'\n\\item '貨櫃'\n\\item '輪'\n\\item '後續'\n\\item '航程'\n\\item '以及'\n\\item '貨物'\n\\item '運送'\n\\item '將視驗'\n\\item '船'\n\\item '機構'\n\\item '檢驗'\n\\item '結果'\n\\item '進行'\n\\item '必要'\n\\item '調整'\n\\item '安排'\n\\item '根據'\n\\item '路透社'\n\\item '雷比'\n\\item '表示'\n\\item '當局'\n\\item '可能'\n\\item '會花'\n\\item '天半至'\n\\item '天'\n\\item '時間'\n\\item '紓解'\n\\item '塞船'\n\\item '一名'\n\\item '消息人士'\n\\item '每天'\n\\item '可有'\n\\item '超過'\n\\item '艘'\n\\item '船隻'\n\\item '進入'\n\\item '運河'\n\\item '全球'\n\\item '航運'\n\\item '權威'\n\\item '媒體'\n\\item '勞'\n\\item '氏'\n\\item '日報'\n\\item '稍早'\n\\item '報導'\n\\item '現有'\n\\item '艘'\n\\item '船舶'\n\\item '正'\n\\item '等'\n\\item '著'\n\\item '通過'\n\\item '蘇伊士運河'\n\\item '公尺'\n\\item '長'\n\\item '長賜輪'\n\\item '萬級'\n\\item '貨櫃'\n\\item '輪'\n\\item '現由'\n\\item '長榮海運'\n\\item '以論'\n\\item '時傭船'\n\\item '方式'\n\\item '向'\n\\item '日本'\n\\item '船東'\n\\item '承租'\n\\item '目前'\n\\item '配'\n\\item '置於'\n\\item '遠東'\n\\item '至'\n\\item '歐洲'\n\\item '航線'\n\\item '長賜輪'\n\\item '巴拿馬'\n\\item '註冊'\n\\item '本月'\n\\item '日'\n\\item '強烈'\n\\item '沙塵暴'\n\\item '擱淺'\n\\item '於'\n\\item '蘇伊士運河'\n\\item '船身'\n\\item '打斜'\n\\item '堵住'\n\\item '運河'\n\\item '雙向交通'\n\\item '使得'\n\\item '全球'\n\\item '供應鏈'\n\\item '受阻'\n\\item '受'\n\\item '影響'\n\\item '每日'\n\\item '貨物運輸'\n\\item '規模'\n\\item '達'\n\\item '億美元'\n\\item '約'\n\\item '新台幣'\n\\item '億元'\n\\item '以下'\n\\item '輪船'\n\\item '今天'\n\\item '脫困'\n\\item '過程'\n\\item '整理'\n\\item '成功'\n\\item '浮起'\n\\item '長賜輪'\n\\item '蘇伊士運河'\n\\item '受困'\n\\item '各方'\n\\item '紛紛'\n\\item '趕來'\n\\item '救援'\n\\item '掛'\n\\item '荷蘭'\n\\item '旗'\n\\item '專業'\n\\item '拖曳'\n\\item '船'\n\\item '號'\n\\item '掛'\n\\item '義大利'\n\\item '旗'\n\\item '號日'\n\\item '陸續'\n\\item '抵達'\n\\item '事發'\n\\item '現場'\n\\item '附近'\n\\item '這'\n\\item '兩艘'\n\\item '拖曳'\n\\item '船'\n\\item '和'\n\\item '現場'\n\\item '至少'\n\\item '艘'\n\\item '拖曳'\n\\item '船'\n\\item '今天'\n\\item '拖引'\n\\item '配合'\n\\item '挖泥船'\n\\item '挖沙'\n\\item '作業'\n\\item '協助'\n\\item '長賜輪'\n\\item '脫困'\n\\item '根據'\n\\item '海上'\n\\item '服務供應商'\n\\item '電子郵件'\n\\item '長賜輪'\n\\item '埃及'\n\\item '當地'\n\\item '時間'\n\\item '今天'\n\\item '凌晨時分'\n\\item '左右'\n\\item '台'\n\\item '灣'\n\\item '時間'\n\\item '日'\n\\item '上午'\n\\item '時分'\n\\item '成功'\n\\item '浮起'\n\\item '雷比'\n\\item '隨後'\n\\item '透過'\n\\item '聲明'\n\\item '表示'\n\\item '這'\n\\item '艘'\n\\item '船'\n\\item '方向'\n\\item '被'\n\\item '重新'\n\\item '導正'\n\\item '船尾'\n\\item '移動'\n\\item '至'\n\\item '距離'\n\\item '岸邊'\n\\item '公尺'\n\\item '處'\n\\item '長賜輪'\n\\item '船尾'\n\\item '位置'\n\\item '原先'\n\\item '距離'\n\\item '河岸'\n\\item '僅'\n\\item '公尺'\n\\end{enumerate*}\n",
            "text/markdown": "1. '長榮海運'\n2. '巨型貨輪'\n3. '長賜輪'\n4. '蘇伊士運河'\n5. '擱淺'\n6. '近'\n7. '一週'\n8. '今天'\n9. '終於'\n10. '重新'\n11. '浮起'\n12. '脫困'\n13. '運河'\n14. '恢復'\n15. '開放'\n16. '當局'\n17. '表示'\n18. '可能'\n19. '會花'\n20. '天半至'\n21. '天'\n22. '時間'\n23. '等待'\n24. '通過'\n25. '船舶'\n26. '長龍'\n27. '淨空'\n28. '法新社'\n29. '報導'\n30. '蘇伊士運河'\n31. '管理局'\n32. '發布'\n33. '聲明'\n34. '表示'\n35. '管理局'\n36. '主席'\n37. '雷比'\n38. '宣布'\n39. '蘇伊士運河'\n40. '航運'\n41. '恢復'\n42. '長榮'\n43. '晚間'\n44. '發布'\n45. '新聞稿'\n46. '指出'\n47. '接獲'\n48. '長賜輪'\n49. '船東'\n50. '通報'\n51. '這艘'\n52. '租船'\n53. '已於'\n54. '台北'\n55. '時間'\n56. '今天'\n57. '晚間'\n58. '點'\n59. '左右'\n60. '埃及'\n61. '時間'\n62. '下'\n63. '午時'\n64. '重新'\n65. '浮起'\n66. '並在'\n67. '拖船'\n68. '協助'\n69. '下'\n70. '順利'\n71. '移出'\n72. '原先'\n73. '擱淺'\n74. '河道'\n75. '蘇伊士運河'\n76. '恢復正常'\n77. '通行'\n78. '長榮'\n79. '表示'\n80. '長賜輪'\n81. '將先'\n82. '移至'\n83. '蘇伊士運河'\n84. '大苦湖'\n85. '水域'\n86. '錨地'\n87. '進行'\n88. '船舶'\n89. '適航性'\n90. '檢驗'\n91. '這艘'\n92. '貨櫃'\n93. '輪'\n94. '後續'\n95. '航程'\n96. '以及'\n97. '貨物'\n98. '運送'\n99. '將視驗'\n100. '船'\n101. '機構'\n102. '檢驗'\n103. '結果'\n104. '進行'\n105. '必要'\n106. '調整'\n107. '安排'\n108. '根據'\n109. '路透社'\n110. '雷比'\n111. '表示'\n112. '當局'\n113. '可能'\n114. '會花'\n115. '天半至'\n116. '天'\n117. '時間'\n118. '紓解'\n119. '塞船'\n120. '一名'\n121. '消息人士'\n122. '每天'\n123. '可有'\n124. '超過'\n125. '艘'\n126. '船隻'\n127. '進入'\n128. '運河'\n129. '全球'\n130. '航運'\n131. '權威'\n132. '媒體'\n133. '勞'\n134. '氏'\n135. '日報'\n136. '稍早'\n137. '報導'\n138. '現有'\n139. '艘'\n140. '船舶'\n141. '正'\n142. '等'\n143. '著'\n144. '通過'\n145. '蘇伊士運河'\n146. '公尺'\n147. '長'\n148. '長賜輪'\n149. '萬級'\n150. '貨櫃'\n151. '輪'\n152. '現由'\n153. '長榮海運'\n154. '以論'\n155. '時傭船'\n156. '方式'\n157. '向'\n158. '日本'\n159. '船東'\n160. '承租'\n161. '目前'\n162. '配'\n163. '置於'\n164. '遠東'\n165. '至'\n166. '歐洲'\n167. '航線'\n168. '長賜輪'\n169. '巴拿馬'\n170. '註冊'\n171. '本月'\n172. '日'\n173. '強烈'\n174. '沙塵暴'\n175. '擱淺'\n176. '於'\n177. '蘇伊士運河'\n178. '船身'\n179. '打斜'\n180. '堵住'\n181. '運河'\n182. '雙向交通'\n183. '使得'\n184. '全球'\n185. '供應鏈'\n186. '受阻'\n187. '受'\n188. '影響'\n189. '每日'\n190. '貨物運輸'\n191. '規模'\n192. '達'\n193. '億美元'\n194. '約'\n195. '新台幣'\n196. '億元'\n197. '以下'\n198. '輪船'\n199. '今天'\n200. '脫困'\n201. '過程'\n202. '整理'\n203. '成功'\n204. '浮起'\n205. '長賜輪'\n206. '蘇伊士運河'\n207. '受困'\n208. '各方'\n209. '紛紛'\n210. '趕來'\n211. '救援'\n212. '掛'\n213. '荷蘭'\n214. '旗'\n215. '專業'\n216. '拖曳'\n217. '船'\n218. '號'\n219. '掛'\n220. '義大利'\n221. '旗'\n222. '號日'\n223. '陸續'\n224. '抵達'\n225. '事發'\n226. '現場'\n227. '附近'\n228. '這'\n229. '兩艘'\n230. '拖曳'\n231. '船'\n232. '和'\n233. '現場'\n234. '至少'\n235. '艘'\n236. '拖曳'\n237. '船'\n238. '今天'\n239. '拖引'\n240. '配合'\n241. '挖泥船'\n242. '挖沙'\n243. '作業'\n244. '協助'\n245. '長賜輪'\n246. '脫困'\n247. '根據'\n248. '海上'\n249. '服務供應商'\n250. '電子郵件'\n251. '長賜輪'\n252. '埃及'\n253. '當地'\n254. '時間'\n255. '今天'\n256. '凌晨時分'\n257. '左右'\n258. '台'\n259. '灣'\n260. '時間'\n261. '日'\n262. '上午'\n263. '時分'\n264. '成功'\n265. '浮起'\n266. '雷比'\n267. '隨後'\n268. '透過'\n269. '聲明'\n270. '表示'\n271. '這'\n272. '艘'\n273. '船'\n274. '方向'\n275. '被'\n276. '重新'\n277. '導正'\n278. '船尾'\n279. '移動'\n280. '至'\n281. '距離'\n282. '岸邊'\n283. '公尺'\n284. '處'\n285. '長賜輪'\n286. '船尾'\n287. '位置'\n288. '原先'\n289. '距離'\n290. '河岸'\n291. '僅'\n292. '公尺'\n\n\n",
            "text/html": [
              "<style>\n",
              ".list-inline {list-style: none; margin:0; padding: 0}\n",
              ".list-inline>li {display: inline-block}\n",
              ".list-inline>li:not(:last-child)::after {content: \"\\00b7\"; padding: 0 .5ex}\n",
              "</style>\n",
              "<ol class=list-inline><li>'長榮海運'</li><li>'巨型貨輪'</li><li>'長賜輪'</li><li>'蘇伊士運河'</li><li>'擱淺'</li><li>'近'</li><li>'一週'</li><li>'今天'</li><li>'終於'</li><li>'重新'</li><li>'浮起'</li><li>'脫困'</li><li>'運河'</li><li>'恢復'</li><li>'開放'</li><li>'當局'</li><li>'表示'</li><li>'可能'</li><li>'會花'</li><li>'天半至'</li><li>'天'</li><li>'時間'</li><li>'等待'</li><li>'通過'</li><li>'船舶'</li><li>'長龍'</li><li>'淨空'</li><li>'法新社'</li><li>'報導'</li><li>'蘇伊士運河'</li><li>'管理局'</li><li>'發布'</li><li>'聲明'</li><li>'表示'</li><li>'管理局'</li><li>'主席'</li><li>'雷比'</li><li>'宣布'</li><li>'蘇伊士運河'</li><li>'航運'</li><li>'恢復'</li><li>'長榮'</li><li>'晚間'</li><li>'發布'</li><li>'新聞稿'</li><li>'指出'</li><li>'接獲'</li><li>'長賜輪'</li><li>'船東'</li><li>'通報'</li><li>'這艘'</li><li>'租船'</li><li>'已於'</li><li>'台北'</li><li>'時間'</li><li>'今天'</li><li>'晚間'</li><li>'點'</li><li>'左右'</li><li>'埃及'</li><li>'時間'</li><li>'下'</li><li>'午時'</li><li>'重新'</li><li>'浮起'</li><li>'並在'</li><li>'拖船'</li><li>'協助'</li><li>'下'</li><li>'順利'</li><li>'移出'</li><li>'原先'</li><li>'擱淺'</li><li>'河道'</li><li>'蘇伊士運河'</li><li>'恢復正常'</li><li>'通行'</li><li>'長榮'</li><li>'表示'</li><li>'長賜輪'</li><li>'將先'</li><li>'移至'</li><li>'蘇伊士運河'</li><li>'大苦湖'</li><li>'水域'</li><li>'錨地'</li><li>'進行'</li><li>'船舶'</li><li>'適航性'</li><li>'檢驗'</li><li>'這艘'</li><li>'貨櫃'</li><li>'輪'</li><li>'後續'</li><li>'航程'</li><li>'以及'</li><li>'貨物'</li><li>'運送'</li><li>'將視驗'</li><li>'船'</li><li>'機構'</li><li>'檢驗'</li><li>'結果'</li><li>'進行'</li><li>'必要'</li><li>'調整'</li><li>'安排'</li><li>'根據'</li><li>'路透社'</li><li>'雷比'</li><li>'表示'</li><li>'當局'</li><li>'可能'</li><li>'會花'</li><li>'天半至'</li><li>'天'</li><li>'時間'</li><li>'紓解'</li><li>'塞船'</li><li>'一名'</li><li>'消息人士'</li><li>'每天'</li><li>'可有'</li><li>'超過'</li><li>'艘'</li><li>'船隻'</li><li>'進入'</li><li>'運河'</li><li>'全球'</li><li>'航運'</li><li>'權威'</li><li>'媒體'</li><li>'勞'</li><li>'氏'</li><li>'日報'</li><li>'稍早'</li><li>'報導'</li><li>'現有'</li><li>'艘'</li><li>'船舶'</li><li>'正'</li><li>'等'</li><li>'著'</li><li>'通過'</li><li>'蘇伊士運河'</li><li>'公尺'</li><li>'長'</li><li>'長賜輪'</li><li>'萬級'</li><li>'貨櫃'</li><li>'輪'</li><li>'現由'</li><li>'長榮海運'</li><li>'以論'</li><li>'時傭船'</li><li>'方式'</li><li>'向'</li><li>'日本'</li><li>'船東'</li><li>'承租'</li><li>'目前'</li><li>'配'</li><li>'置於'</li><li>'遠東'</li><li>'至'</li><li>'歐洲'</li><li>'航線'</li><li>'長賜輪'</li><li>'巴拿馬'</li><li>'註冊'</li><li>'本月'</li><li>'日'</li><li>'強烈'</li><li>'沙塵暴'</li><li>'擱淺'</li><li>'於'</li><li>'蘇伊士運河'</li><li>'船身'</li><li>'打斜'</li><li>'堵住'</li><li>'運河'</li><li>'雙向交通'</li><li>'使得'</li><li>'全球'</li><li>'供應鏈'</li><li>'受阻'</li><li>'受'</li><li>'影響'</li><li>'每日'</li><li>'貨物運輸'</li><li>'規模'</li><li>'達'</li><li>'億美元'</li><li>'約'</li><li>'新台幣'</li><li>'億元'</li><li>'以下'</li><li>'輪船'</li><li>'今天'</li><li>'脫困'</li><li>'過程'</li><li>'整理'</li><li>'成功'</li><li>'浮起'</li><li>'長賜輪'</li><li>'蘇伊士運河'</li><li>'受困'</li><li>'各方'</li><li>'紛紛'</li><li>'趕來'</li><li>'救援'</li><li>'掛'</li><li>'荷蘭'</li><li>'旗'</li><li>'專業'</li><li>'拖曳'</li><li>'船'</li><li>'號'</li><li>'掛'</li><li>'義大利'</li><li>'旗'</li><li>'號日'</li><li>'陸續'</li><li>'抵達'</li><li>'事發'</li><li>'現場'</li><li>'附近'</li><li>'這'</li><li>'兩艘'</li><li>'拖曳'</li><li>'船'</li><li>'和'</li><li>'現場'</li><li>'至少'</li><li>'艘'</li><li>'拖曳'</li><li>'船'</li><li>'今天'</li><li>'拖引'</li><li>'配合'</li><li>'挖泥船'</li><li>'挖沙'</li><li>'作業'</li><li>'協助'</li><li>'長賜輪'</li><li>'脫困'</li><li>'根據'</li><li>'海上'</li><li>'服務供應商'</li><li>'電子郵件'</li><li>'長賜輪'</li><li>'埃及'</li><li>'當地'</li><li>'時間'</li><li>'今天'</li><li>'凌晨時分'</li><li>'左右'</li><li>'台'</li><li>'灣'</li><li>'時間'</li><li>'日'</li><li>'上午'</li><li>'時分'</li><li>'成功'</li><li>'浮起'</li><li>'雷比'</li><li>'隨後'</li><li>'透過'</li><li>'聲明'</li><li>'表示'</li><li>'這'</li><li>'艘'</li><li>'船'</li><li>'方向'</li><li>'被'</li><li>'重新'</li><li>'導正'</li><li>'船尾'</li><li>'移動'</li><li>'至'</li><li>'距離'</li><li>'岸邊'</li><li>'公尺'</li><li>'處'</li><li>'長賜輪'</li><li>'船尾'</li><li>'位置'</li><li>'原先'</li><li>'距離'</li><li>'河岸'</li><li>'僅'</li><li>'公尺'</li></ol>\n"
            ]
          },
          "metadata": {
            "tags": []
          }
        }
      ]
    },
    {
      "cell_type": "code",
      "metadata": {
        "colab": {
          "base_uri": "https://localhost:8080/",
          "height": 271
        },
        "id": "DsCC7VKkSayk",
        "outputId": "04f164bc-a274-4430-97bd-b9eb28a58971"
      },
      "source": [
        "txt_freq<-freq(seg_words)\n",
        "txt_freq<-arrange(txt_freq,desc(freq))\n",
        "head(txt_freq)"
      ],
      "execution_count": 40,
      "outputs": [
        {
          "output_type": "display_data",
          "data": {
            "text/plain": [
              "  char       freq\n",
              "1 長賜輪     9   \n",
              "2 蘇伊士運河 8   \n",
              "3 時間       6   \n",
              "4 今天       5   \n",
              "5 表示       5   \n",
              "6 船         5   "
            ],
            "text/latex": "A data.frame: 6 × 2\n\\begin{tabular}{r|ll}\n  & char & freq\\\\\n  & <chr> & <dbl>\\\\\n\\hline\n\t1 & 長賜輪     & 9\\\\\n\t2 & 蘇伊士運河 & 8\\\\\n\t3 & 時間       & 6\\\\\n\t4 & 今天       & 5\\\\\n\t5 & 表示       & 5\\\\\n\t6 & 船         & 5\\\\\n\\end{tabular}\n",
            "text/markdown": "\nA data.frame: 6 × 2\n\n| <!--/--> | char &lt;chr&gt; | freq &lt;dbl&gt; |\n|---|---|---|\n| 1 | 長賜輪     | 9 |\n| 2 | 蘇伊士運河 | 8 |\n| 3 | 時間       | 6 |\n| 4 | 今天       | 5 |\n| 5 | 表示       | 5 |\n| 6 | 船         | 5 |\n\n",
            "text/html": [
              "<table class=\"dataframe\">\n",
              "<caption>A data.frame: 6 × 2</caption>\n",
              "<thead>\n",
              "\t<tr><th></th><th scope=col>char</th><th scope=col>freq</th></tr>\n",
              "\t<tr><th></th><th scope=col>&lt;chr&gt;</th><th scope=col>&lt;dbl&gt;</th></tr>\n",
              "</thead>\n",
              "<tbody>\n",
              "\t<tr><th scope=row>1</th><td>長賜輪    </td><td>9</td></tr>\n",
              "\t<tr><th scope=row>2</th><td>蘇伊士運河</td><td>8</td></tr>\n",
              "\t<tr><th scope=row>3</th><td>時間      </td><td>6</td></tr>\n",
              "\t<tr><th scope=row>4</th><td>今天      </td><td>5</td></tr>\n",
              "\t<tr><th scope=row>5</th><td>表示      </td><td>5</td></tr>\n",
              "\t<tr><th scope=row>6</th><td>船        </td><td>5</td></tr>\n",
              "</tbody>\n",
              "</table>\n"
            ]
          },
          "metadata": {
            "tags": []
          }
        }
      ]
    },
    {
      "cell_type": "code",
      "metadata": {
        "colab": {
          "base_uri": "https://localhost:8080/",
          "height": 1000
        },
        "id": "QgYkwnsITFb_",
        "outputId": "8ffdb0b7-7b51-4704-fa27-0169d37096a7"
      },
      "source": [
        "par(family=(\"Microsoft YaHei\"))\n",
        "wordcloud(txt_freq$char,txt_freq$freq,min.freq =2,\n",
        "random.order=F,ordered.colors = F,colors = rainbow(nrow(txt_freq)))"
      ],
      "execution_count": 41,
      "outputs": [
        {
          "output_type": "stream",
          "text": [
            "Warning message in strwidth(words[i], cex = size[i], ...):\n",
            "“font family 'Microsoft YaHei' not found, will use 'wqy-microhei' instead”\n",
            "Warning message in strheight(words[i], cex = size[i], ...):\n",
            "“font family 'Microsoft YaHei' not found, will use 'sans' instead”\n",
            "Warning message in text.default(x1, y1, words[i], cex = size[i], offset = 0, srt = rotWord * :\n",
            "“font family 'Microsoft YaHei' not found, will use 'wqy-microhei' instead”\n",
            "Warning message in text.default(x1, y1, words[i], cex = size[i], offset = 0, srt = rotWord * :\n",
            "“font family 'Microsoft YaHei' not found, will use 'wqy-microhei' instead”\n",
            "Warning message in text.default(x1, y1, words[i], cex = size[i], offset = 0, srt = rotWord * :\n",
            "“font family 'Microsoft YaHei' not found, will use 'wqy-microhei' instead”\n",
            "Warning message in text.default(x1, y1, words[i], cex = size[i], offset = 0, srt = rotWord * :\n",
            "“font family 'Microsoft YaHei' not found, will use 'wqy-microhei' instead”\n",
            "Warning message in text.default(x1, y1, words[i], cex = size[i], offset = 0, srt = rotWord * :\n",
            "“font family 'Microsoft YaHei' not found, will use 'wqy-microhei' instead”\n",
            "Warning message in strwidth(words[i], cex = size[i], ...):\n",
            "“font family 'Microsoft YaHei' not found, will use 'wqy-microhei' instead”\n",
            "Warning message in strheight(words[i], cex = size[i], ...):\n",
            "“font family 'Microsoft YaHei' not found, will use 'sans' instead”\n",
            "Warning message in text.default(x1, y1, words[i], cex = size[i], offset = 0, srt = rotWord * :\n",
            "“font family 'Microsoft YaHei' not found, will use 'wqy-microhei' instead”\n",
            "Warning message in text.default(x1, y1, words[i], cex = size[i], offset = 0, srt = rotWord * :\n",
            "“font family 'Microsoft YaHei' not found, will use 'wqy-microhei' instead”\n",
            "Warning message in text.default(x1, y1, words[i], cex = size[i], offset = 0, srt = rotWord * :\n",
            "“font family 'Microsoft YaHei' not found, will use 'wqy-microhei' instead”\n",
            "Warning message in text.default(x1, y1, words[i], cex = size[i], offset = 0, srt = rotWord * :\n",
            "“font family 'Microsoft YaHei' not found, will use 'wqy-microhei' instead”\n",
            "Warning message in text.default(x1, y1, words[i], cex = size[i], offset = 0, srt = rotWord * :\n",
            "“font family 'Microsoft YaHei' not found, will use 'wqy-microhei' instead”\n",
            "Warning message in text.default(x1, y1, words[i], cex = size[i], offset = 0, srt = rotWord * :\n",
            "“font family 'Microsoft YaHei' not found, will use 'wqy-microhei' instead”\n",
            "Warning message in text.default(x1, y1, words[i], cex = size[i], offset = 0, srt = rotWord * :\n",
            "“font family 'Microsoft YaHei' not found, will use 'wqy-microhei' instead”\n",
            "Warning message in strwidth(words[i], cex = size[i], ...):\n",
            "“font family 'Microsoft YaHei' not found, will use 'wqy-microhei' instead”\n",
            "Warning message in strheight(words[i], cex = size[i], ...):\n",
            "“font family 'Microsoft YaHei' not found, will use 'sans' instead”\n",
            "Warning message in text.default(x1, y1, words[i], cex = size[i], offset = 0, srt = rotWord * :\n",
            "“font family 'Microsoft YaHei' not found, will use 'wqy-microhei' instead”\n",
            "Warning message in text.default(x1, y1, words[i], cex = size[i], offset = 0, srt = rotWord * :\n",
            "“font family 'Microsoft YaHei' not found, will use 'wqy-microhei' instead”\n",
            "Warning message in text.default(x1, y1, words[i], cex = size[i], offset = 0, srt = rotWord * :\n",
            "“font family 'Microsoft YaHei' not found, will use 'wqy-microhei' instead”\n",
            "Warning message in text.default(x1, y1, words[i], cex = size[i], offset = 0, srt = rotWord * :\n",
            "“font family 'Microsoft YaHei' not found, will use 'wqy-microhei' instead”\n",
            "Warning message in strwidth(words[i], cex = size[i], ...):\n",
            "“font family 'Microsoft YaHei' not found, will use 'wqy-microhei' instead”\n",
            "Warning message in strheight(words[i], cex = size[i], ...):\n",
            "“font family 'Microsoft YaHei' not found, will use 'sans' instead”\n",
            "Warning message in text.default(x1, y1, words[i], cex = size[i], offset = 0, srt = rotWord * :\n",
            "“font family 'Microsoft YaHei' not found, will use 'wqy-microhei' instead”\n",
            "Warning message in text.default(x1, y1, words[i], cex = size[i], offset = 0, srt = rotWord * :\n",
            "“font family 'Microsoft YaHei' not found, will use 'wqy-microhei' instead”\n",
            "Warning message in text.default(x1, y1, words[i], cex = size[i], offset = 0, srt = rotWord * :\n",
            "“font family 'Microsoft YaHei' not found, will use 'wqy-microhei' instead”\n",
            "Warning message in text.default(x1, y1, words[i], cex = size[i], offset = 0, srt = rotWord * :\n",
            "“font family 'Microsoft YaHei' not found, will use 'wqy-microhei' instead”\n",
            "Warning message in strwidth(words[i], cex = size[i], ...):\n",
            "“font family 'Microsoft YaHei' not found, will use 'wqy-microhei' instead”\n",
            "Warning message in text.default(x1, y1, words[i], cex = size[i], offset = 0, srt = rotWord * :\n",
            "“font family 'Microsoft YaHei' not found, will use 'wqy-microhei' instead”\n",
            "Warning message in text.default(x1, y1, words[i], cex = size[i], offset = 0, srt = rotWord * :\n",
            "“font family 'Microsoft YaHei' not found, will use 'wqy-microhei' instead”\n",
            "Warning message in text.default(x1, y1, words[i], cex = size[i], offset = 0, srt = rotWord * :\n",
            "“font family 'Microsoft YaHei' not found, will use 'wqy-microhei' instead”\n",
            "Warning message in text.default(x1, y1, words[i], cex = size[i], offset = 0, srt = rotWord * :\n",
            "“font family 'Microsoft YaHei' not found, will use 'wqy-microhei' instead”\n",
            "Warning message in strwidth(words[i], cex = size[i], ...):\n",
            "“font family 'Microsoft YaHei' not found, will use 'wqy-microhei' instead”\n",
            "Warning message in text.default(x1, y1, words[i], cex = size[i], offset = 0, srt = rotWord * :\n",
            "“font family 'Microsoft YaHei' not found, will use 'wqy-microhei' instead”\n",
            "Warning message in text.default(x1, y1, words[i], cex = size[i], offset = 0, srt = rotWord * :\n",
            "“font family 'Microsoft YaHei' not found, will use 'wqy-microhei' instead”\n",
            "Warning message in text.default(x1, y1, words[i], cex = size[i], offset = 0, srt = rotWord * :\n",
            "“font family 'Microsoft YaHei' not found, will use 'wqy-microhei' instead”\n",
            "Warning message in strwidth(words[i], cex = size[i], ...):\n",
            "“font family 'Microsoft YaHei' not found, will use 'wqy-microhei' instead”\n",
            "Warning message in strheight(words[i], cex = size[i], ...):\n",
            "“font family 'Microsoft YaHei' not found, will use 'sans' instead”\n",
            "Warning message in text.default(x1, y1, words[i], cex = size[i], offset = 0, srt = rotWord * :\n",
            "“font family 'Microsoft YaHei' not found, will use 'wqy-microhei' instead”\n",
            "Warning message in text.default(x1, y1, words[i], cex = size[i], offset = 0, srt = rotWord * :\n",
            "“font family 'Microsoft YaHei' not found, will use 'wqy-microhei' instead”\n",
            "Warning message in text.default(x1, y1, words[i], cex = size[i], offset = 0, srt = rotWord * :\n",
            "“font family 'Microsoft YaHei' not found, will use 'wqy-microhei' instead”\n",
            "Warning message in text.default(x1, y1, words[i], cex = size[i], offset = 0, srt = rotWord * :\n",
            "“font family 'Microsoft YaHei' not found, will use 'wqy-microhei' instead”\n",
            "Warning message in strwidth(words[i], cex = size[i], ...):\n",
            "“font family 'Microsoft YaHei' not found, will use 'wqy-microhei' instead”\n",
            "Warning message in text.default(x1, y1, words[i], cex = size[i], offset = 0, srt = rotWord * :\n",
            "“font family 'Microsoft YaHei' not found, will use 'wqy-microhei' instead”\n",
            "Warning message in text.default(x1, y1, words[i], cex = size[i], offset = 0, srt = rotWord * :\n",
            "“font family 'Microsoft YaHei' not found, will use 'wqy-microhei' instead”\n",
            "Warning message in text.default(x1, y1, words[i], cex = size[i], offset = 0, srt = rotWord * :\n",
            "“font family 'Microsoft YaHei' not found, will use 'wqy-microhei' instead”\n",
            "Warning message in strwidth(words[i], cex = size[i], ...):\n",
            "“font family 'Microsoft YaHei' not found, will use 'wqy-microhei' instead”\n",
            "Warning message in strheight(words[i], cex = size[i], ...):\n",
            "“font family 'Microsoft YaHei' not found, will use 'sans' instead”\n",
            "Warning message in text.default(x1, y1, words[i], cex = size[i], offset = 0, srt = rotWord * :\n",
            "“font family 'Microsoft YaHei' not found, will use 'wqy-microhei' instead”\n",
            "Warning message in text.default(x1, y1, words[i], cex = size[i], offset = 0, srt = rotWord * :\n",
            "“font family 'Microsoft YaHei' not found, will use 'wqy-microhei' instead”\n",
            "Warning message in text.default(x1, y1, words[i], cex = size[i], offset = 0, srt = rotWord * :\n",
            "“font family 'Microsoft YaHei' not found, will use 'wqy-microhei' instead”\n",
            "Warning message in text.default(x1, y1, words[i], cex = size[i], offset = 0, srt = rotWord * :\n",
            "“font family 'Microsoft YaHei' not found, will use 'wqy-microhei' instead”\n",
            "Warning message in strwidth(words[i], cex = size[i], ...):\n",
            "“font family 'Microsoft YaHei' not found, will use 'wqy-microhei' instead”\n",
            "Warning message in text.default(x1, y1, words[i], cex = size[i], offset = 0, srt = rotWord * :\n",
            "“font family 'Microsoft YaHei' not found, will use 'wqy-microhei' instead”\n",
            "Warning message in text.default(x1, y1, words[i], cex = size[i], offset = 0, srt = rotWord * :\n",
            "“font family 'Microsoft YaHei' not found, will use 'wqy-microhei' instead”\n",
            "Warning message in text.default(x1, y1, words[i], cex = size[i], offset = 0, srt = rotWord * :\n",
            "“font family 'Microsoft YaHei' not found, will use 'wqy-microhei' instead”\n",
            "Warning message in text.default(x1, y1, words[i], cex = size[i], offset = 0, srt = rotWord * :\n",
            "“font family 'Microsoft YaHei' not found, will use 'wqy-microhei' instead”\n",
            "Warning message in strwidth(words[i], cex = size[i], ...):\n",
            "“font family 'Microsoft YaHei' not found, will use 'wqy-microhei' instead”\n",
            "Warning message in text.default(x1, y1, words[i], cex = size[i], offset = 0, srt = rotWord * :\n",
            "“font family 'Microsoft YaHei' not found, will use 'wqy-microhei' instead”\n",
            "Warning message in text.default(x1, y1, words[i], cex = size[i], offset = 0, srt = rotWord * :\n",
            "“font family 'Microsoft YaHei' not found, will use 'wqy-microhei' instead”\n",
            "Warning message in text.default(x1, y1, words[i], cex = size[i], offset = 0, srt = rotWord * :\n",
            "“font family 'Microsoft YaHei' not found, will use 'wqy-microhei' instead”\n",
            "Warning message in text.default(x1, y1, words[i], cex = size[i], offset = 0, srt = rotWord * :\n",
            "“font family 'Microsoft YaHei' not found, will use 'wqy-microhei' instead”\n",
            "Warning message in strwidth(words[i], cex = size[i], ...):\n",
            "“font family 'Microsoft YaHei' not found, will use 'wqy-microhei' instead”\n",
            "Warning message in text.default(x1, y1, words[i], cex = size[i], offset = 0, srt = rotWord * :\n",
            "“font family 'Microsoft YaHei' not found, will use 'wqy-microhei' instead”\n",
            "Warning message in text.default(x1, y1, words[i], cex = size[i], offset = 0, srt = rotWord * :\n",
            "“font family 'Microsoft YaHei' not found, will use 'wqy-microhei' instead”\n",
            "Warning message in text.default(x1, y1, words[i], cex = size[i], offset = 0, srt = rotWord * :\n",
            "“font family 'Microsoft YaHei' not found, will use 'wqy-microhei' instead”\n",
            "Warning message in text.default(x1, y1, words[i], cex = size[i], offset = 0, srt = rotWord * :\n",
            "“font family 'Microsoft YaHei' not found, will use 'wqy-microhei' instead”\n",
            "Warning message in strwidth(words[i], cex = size[i], ...):\n",
            "“font family 'Microsoft YaHei' not found, will use 'wqy-microhei' instead”\n",
            "Warning message in text.default(x1, y1, words[i], cex = size[i], offset = 0, srt = rotWord * :\n",
            "“font family 'Microsoft YaHei' not found, will use 'wqy-microhei' instead”\n",
            "Warning message in text.default(x1, y1, words[i], cex = size[i], offset = 0, srt = rotWord * :\n",
            "“font family 'Microsoft YaHei' not found, will use 'wqy-microhei' instead”\n",
            "Warning message in text.default(x1, y1, words[i], cex = size[i], offset = 0, srt = rotWord * :\n",
            "“font family 'Microsoft YaHei' not found, will use 'wqy-microhei' instead”\n",
            "Warning message in text.default(x1, y1, words[i], cex = size[i], offset = 0, srt = rotWord * :\n",
            "“font family 'Microsoft YaHei' not found, will use 'wqy-microhei' instead”\n",
            "Warning message in strwidth(words[i], cex = size[i], ...):\n",
            "“font family 'Microsoft YaHei' not found, will use 'wqy-microhei' instead”\n",
            "Warning message in text.default(x1, y1, words[i], cex = size[i], offset = 0, srt = rotWord * :\n",
            "“font family 'Microsoft YaHei' not found, will use 'wqy-microhei' instead”\n",
            "Warning message in text.default(x1, y1, words[i], cex = size[i], offset = 0, srt = rotWord * :\n",
            "“font family 'Microsoft YaHei' not found, will use 'wqy-microhei' instead”\n",
            "Warning message in text.default(x1, y1, words[i], cex = size[i], offset = 0, srt = rotWord * :\n",
            "“font family 'Microsoft YaHei' not found, will use 'wqy-microhei' instead”\n",
            "Warning message in text.default(x1, y1, words[i], cex = size[i], offset = 0, srt = rotWord * :\n",
            "“font family 'Microsoft YaHei' not found, will use 'wqy-microhei' instead”\n",
            "Warning message in strwidth(words[i], cex = size[i], ...):\n",
            "“font family 'Microsoft YaHei' not found, will use 'wqy-microhei' instead”\n",
            "Warning message in text.default(x1, y1, words[i], cex = size[i], offset = 0, srt = rotWord * :\n",
            "“font family 'Microsoft YaHei' not found, will use 'wqy-microhei' instead”\n",
            "Warning message in text.default(x1, y1, words[i], cex = size[i], offset = 0, srt = rotWord * :\n",
            "“font family 'Microsoft YaHei' not found, will use 'wqy-microhei' instead”\n",
            "Warning message in text.default(x1, y1, words[i], cex = size[i], offset = 0, srt = rotWord * :\n",
            "“font family 'Microsoft YaHei' not found, will use 'wqy-microhei' instead”\n",
            "Warning message in text.default(x1, y1, words[i], cex = size[i], offset = 0, srt = rotWord * :\n",
            "“font family 'Microsoft YaHei' not found, will use 'wqy-microhei' instead”\n",
            "Warning message in strwidth(words[i], cex = size[i], ...):\n",
            "“font family 'Microsoft YaHei' not found, will use 'wqy-microhei' instead”\n",
            "Warning message in text.default(x1, y1, words[i], cex = size[i], offset = 0, srt = rotWord * :\n",
            "“font family 'Microsoft YaHei' not found, will use 'wqy-microhei' instead”\n",
            "Warning message in text.default(x1, y1, words[i], cex = size[i], offset = 0, srt = rotWord * :\n",
            "“font family 'Microsoft YaHei' not found, will use 'wqy-microhei' instead”\n",
            "Warning message in text.default(x1, y1, words[i], cex = size[i], offset = 0, srt = rotWord * :\n",
            "“font family 'Microsoft YaHei' not found, will use 'wqy-microhei' instead”\n",
            "Warning message in text.default(x1, y1, words[i], cex = size[i], offset = 0, srt = rotWord * :\n",
            "“font family 'Microsoft YaHei' not found, will use 'wqy-microhei' instead”\n",
            "Warning message in strwidth(words[i], cex = size[i], ...):\n",
            "“font family 'Microsoft YaHei' not found, will use 'wqy-microhei' instead”\n",
            "Warning message in strheight(words[i], cex = size[i], ...):\n",
            "“font family 'Microsoft YaHei' not found, will use 'sans' instead”\n",
            "Warning message in text.default(x1, y1, words[i], cex = size[i], offset = 0, srt = rotWord * :\n",
            "“font family 'Microsoft YaHei' not found, will use 'wqy-microhei' instead”\n",
            "Warning message in text.default(x1, y1, words[i], cex = size[i], offset = 0, srt = rotWord * :\n",
            "“font family 'Microsoft YaHei' not found, will use 'wqy-microhei' instead”\n",
            "Warning message in text.default(x1, y1, words[i], cex = size[i], offset = 0, srt = rotWord * :\n",
            "“font family 'Microsoft YaHei' not found, will use 'wqy-microhei' instead”\n",
            "Warning message in strwidth(words[i], cex = size[i], ...):\n",
            "“font family 'Microsoft YaHei' not found, will use 'wqy-microhei' instead”\n",
            "Warning message in text.default(x1, y1, words[i], cex = size[i], offset = 0, srt = rotWord * :\n",
            "“font family 'Microsoft YaHei' not found, will use 'wqy-microhei' instead”\n",
            "Warning message in text.default(x1, y1, words[i], cex = size[i], offset = 0, srt = rotWord * :\n",
            "“font family 'Microsoft YaHei' not found, will use 'wqy-microhei' instead”\n",
            "Warning message in text.default(x1, y1, words[i], cex = size[i], offset = 0, srt = rotWord * :\n",
            "“font family 'Microsoft YaHei' not found, will use 'wqy-microhei' instead”\n",
            "Warning message in text.default(x1, y1, words[i], cex = size[i], offset = 0, srt = rotWord * :\n",
            "“font family 'Microsoft YaHei' not found, will use 'wqy-microhei' instead”\n",
            "Warning message in strwidth(words[i], cex = size[i], ...):\n",
            "“font family 'Microsoft YaHei' not found, will use 'wqy-microhei' instead”\n",
            "Warning message in text.default(x1, y1, words[i], cex = size[i], offset = 0, srt = rotWord * :\n",
            "“font family 'Microsoft YaHei' not found, will use 'wqy-microhei' instead”\n",
            "Warning message in text.default(x1, y1, words[i], cex = size[i], offset = 0, srt = rotWord * :\n",
            "“font family 'Microsoft YaHei' not found, will use 'wqy-microhei' instead”\n",
            "Warning message in text.default(x1, y1, words[i], cex = size[i], offset = 0, srt = rotWord * :\n",
            "“font family 'Microsoft YaHei' not found, will use 'wqy-microhei' instead”\n",
            "Warning message in text.default(x1, y1, words[i], cex = size[i], offset = 0, srt = rotWord * :\n",
            "“font family 'Microsoft YaHei' not found, will use 'wqy-microhei' instead”\n",
            "Warning message in strwidth(words[i], cex = size[i], ...):\n",
            "“font family 'Microsoft YaHei' not found, will use 'wqy-microhei' instead”\n",
            "Warning message in text.default(x1, y1, words[i], cex = size[i], offset = 0, srt = rotWord * :\n",
            "“font family 'Microsoft YaHei' not found, will use 'wqy-microhei' instead”\n",
            "Warning message in text.default(x1, y1, words[i], cex = size[i], offset = 0, srt = rotWord * :\n",
            "“font family 'Microsoft YaHei' not found, will use 'wqy-microhei' instead”\n",
            "Warning message in text.default(x1, y1, words[i], cex = size[i], offset = 0, srt = rotWord * :\n",
            "“font family 'Microsoft YaHei' not found, will use 'wqy-microhei' instead”\n",
            "Warning message in text.default(x1, y1, words[i], cex = size[i], offset = 0, srt = rotWord * :\n",
            "“font family 'Microsoft YaHei' not found, will use 'wqy-microhei' instead”\n",
            "Warning message in strwidth(words[i], cex = size[i], ...):\n",
            "“font family 'Microsoft YaHei' not found, will use 'wqy-microhei' instead”\n",
            "Warning message in text.default(x1, y1, words[i], cex = size[i], offset = 0, srt = rotWord * :\n",
            "“font family 'Microsoft YaHei' not found, will use 'wqy-microhei' instead”\n",
            "Warning message in text.default(x1, y1, words[i], cex = size[i], offset = 0, srt = rotWord * :\n",
            "“font family 'Microsoft YaHei' not found, will use 'wqy-microhei' instead”\n",
            "Warning message in text.default(x1, y1, words[i], cex = size[i], offset = 0, srt = rotWord * :\n",
            "“font family 'Microsoft YaHei' not found, will use 'wqy-microhei' instead”\n",
            "Warning message in text.default(x1, y1, words[i], cex = size[i], offset = 0, srt = rotWord * :\n",
            "“font family 'Microsoft YaHei' not found, will use 'wqy-microhei' instead”\n",
            "Warning message in strwidth(words[i], cex = size[i], ...):\n",
            "“font family 'Microsoft YaHei' not found, will use 'wqy-microhei' instead”\n",
            "Warning message in text.default(x1, y1, words[i], cex = size[i], offset = 0, srt = rotWord * :\n",
            "“font family 'Microsoft YaHei' not found, will use 'wqy-microhei' instead”\n",
            "Warning message in text.default(x1, y1, words[i], cex = size[i], offset = 0, srt = rotWord * :\n",
            "“font family 'Microsoft YaHei' not found, will use 'wqy-microhei' instead”\n",
            "Warning message in text.default(x1, y1, words[i], cex = size[i], offset = 0, srt = rotWord * :\n",
            "“font family 'Microsoft YaHei' not found, will use 'wqy-microhei' instead”\n",
            "Warning message in text.default(x1, y1, words[i], cex = size[i], offset = 0, srt = rotWord * :\n",
            "“font family 'Microsoft YaHei' not found, will use 'wqy-microhei' instead”\n",
            "Warning message in strwidth(words[i], cex = size[i], ...):\n",
            "“font family 'Microsoft YaHei' not found, will use 'wqy-microhei' instead”\n",
            "Warning message in text.default(x1, y1, words[i], cex = size[i], offset = 0, srt = rotWord * :\n",
            "“font family 'Microsoft YaHei' not found, will use 'wqy-microhei' instead”\n",
            "Warning message in text.default(x1, y1, words[i], cex = size[i], offset = 0, srt = rotWord * :\n",
            "“font family 'Microsoft YaHei' not found, will use 'wqy-microhei' instead”\n",
            "Warning message in text.default(x1, y1, words[i], cex = size[i], offset = 0, srt = rotWord * :\n",
            "“font family 'Microsoft YaHei' not found, will use 'wqy-microhei' instead”\n",
            "Warning message in text.default(x1, y1, words[i], cex = size[i], offset = 0, srt = rotWord * :\n",
            "“font family 'Microsoft YaHei' not found, will use 'wqy-microhei' instead”\n",
            "Warning message in strwidth(words[i], cex = size[i], ...):\n",
            "“font family 'Microsoft YaHei' not found, will use 'wqy-microhei' instead”\n",
            "Warning message in text.default(x1, y1, words[i], cex = size[i], offset = 0, srt = rotWord * :\n",
            "“font family 'Microsoft YaHei' not found, will use 'wqy-microhei' instead”\n",
            "Warning message in text.default(x1, y1, words[i], cex = size[i], offset = 0, srt = rotWord * :\n",
            "“font family 'Microsoft YaHei' not found, will use 'wqy-microhei' instead”\n",
            "Warning message in text.default(x1, y1, words[i], cex = size[i], offset = 0, srt = rotWord * :\n",
            "“font family 'Microsoft YaHei' not found, will use 'wqy-microhei' instead”\n",
            "Warning message in text.default(x1, y1, words[i], cex = size[i], offset = 0, srt = rotWord * :\n",
            "“font family 'Microsoft YaHei' not found, will use 'wqy-microhei' instead”\n",
            "Warning message in strwidth(words[i], cex = size[i], ...):\n",
            "“font family 'Microsoft YaHei' not found, will use 'wqy-microhei' instead”\n",
            "Warning message in text.default(x1, y1, words[i], cex = size[i], offset = 0, srt = rotWord * :\n",
            "“font family 'Microsoft YaHei' not found, will use 'wqy-microhei' instead”\n",
            "Warning message in text.default(x1, y1, words[i], cex = size[i], offset = 0, srt = rotWord * :\n",
            "“font family 'Microsoft YaHei' not found, will use 'wqy-microhei' instead”\n",
            "Warning message in text.default(x1, y1, words[i], cex = size[i], offset = 0, srt = rotWord * :\n",
            "“font family 'Microsoft YaHei' not found, will use 'wqy-microhei' instead”\n",
            "Warning message in text.default(x1, y1, words[i], cex = size[i], offset = 0, srt = rotWord * :\n",
            "“font family 'Microsoft YaHei' not found, will use 'wqy-microhei' instead”\n",
            "Warning message in strwidth(words[i], cex = size[i], ...):\n",
            "“font family 'Microsoft YaHei' not found, will use 'wqy-microhei' instead”\n",
            "Warning message in text.default(x1, y1, words[i], cex = size[i], offset = 0, srt = rotWord * :\n",
            "“font family 'Microsoft YaHei' not found, will use 'wqy-microhei' instead”\n",
            "Warning message in text.default(x1, y1, words[i], cex = size[i], offset = 0, srt = rotWord * :\n",
            "“font family 'Microsoft YaHei' not found, will use 'wqy-microhei' instead”\n",
            "Warning message in text.default(x1, y1, words[i], cex = size[i], offset = 0, srt = rotWord * :\n",
            "“font family 'Microsoft YaHei' not found, will use 'wqy-microhei' instead”\n",
            "Warning message in strwidth(words[i], cex = size[i], ...):\n",
            "“font family 'Microsoft YaHei' not found, will use 'wqy-microhei' instead”\n",
            "Warning message in text.default(x1, y1, words[i], cex = size[i], offset = 0, srt = rotWord * :\n",
            "“font family 'Microsoft YaHei' not found, will use 'wqy-microhei' instead”\n",
            "Warning message in text.default(x1, y1, words[i], cex = size[i], offset = 0, srt = rotWord * :\n",
            "“font family 'Microsoft YaHei' not found, will use 'wqy-microhei' instead”\n",
            "Warning message in text.default(x1, y1, words[i], cex = size[i], offset = 0, srt = rotWord * :\n",
            "“font family 'Microsoft YaHei' not found, will use 'wqy-microhei' instead”\n",
            "Warning message in text.default(x1, y1, words[i], cex = size[i], offset = 0, srt = rotWord * :\n",
            "“font family 'Microsoft YaHei' not found, will use 'wqy-microhei' instead”\n",
            "Warning message in strwidth(words[i], cex = size[i], ...):\n",
            "“font family 'Microsoft YaHei' not found, will use 'wqy-microhei' instead”\n",
            "Warning message in text.default(x1, y1, words[i], cex = size[i], offset = 0, srt = rotWord * :\n",
            "“font family 'Microsoft YaHei' not found, will use 'wqy-microhei' instead”\n",
            "Warning message in text.default(x1, y1, words[i], cex = size[i], offset = 0, srt = rotWord * :\n",
            "“font family 'Microsoft YaHei' not found, will use 'wqy-microhei' instead”\n",
            "Warning message in text.default(x1, y1, words[i], cex = size[i], offset = 0, srt = rotWord * :\n",
            "“font family 'Microsoft YaHei' not found, will use 'wqy-microhei' instead”\n",
            "Warning message in text.default(x1, y1, words[i], cex = size[i], offset = 0, srt = rotWord * :\n",
            "“font family 'Microsoft YaHei' not found, will use 'wqy-microhei' instead”\n",
            "Warning message in strwidth(words[i], cex = size[i], ...):\n",
            "“font family 'Microsoft YaHei' not found, will use 'wqy-microhei' instead”\n",
            "Warning message in text.default(x1, y1, words[i], cex = size[i], offset = 0, srt = rotWord * :\n",
            "“font family 'Microsoft YaHei' not found, will use 'wqy-microhei' instead”\n",
            "Warning message in text.default(x1, y1, words[i], cex = size[i], offset = 0, srt = rotWord * :\n",
            "“font family 'Microsoft YaHei' not found, will use 'wqy-microhei' instead”\n",
            "Warning message in text.default(x1, y1, words[i], cex = size[i], offset = 0, srt = rotWord * :\n",
            "“font family 'Microsoft YaHei' not found, will use 'wqy-microhei' instead”\n",
            "Warning message in text.default(x1, y1, words[i], cex = size[i], offset = 0, srt = rotWord * :\n",
            "“font family 'Microsoft YaHei' not found, will use 'wqy-microhei' instead”\n",
            "Warning message in strwidth(words[i], cex = size[i], ...):\n",
            "“font family 'Microsoft YaHei' not found, will use 'wqy-microhei' instead”\n",
            "Warning message in text.default(x1, y1, words[i], cex = size[i], offset = 0, srt = rotWord * :\n",
            "“font family 'Microsoft YaHei' not found, will use 'wqy-microhei' instead”\n",
            "Warning message in text.default(x1, y1, words[i], cex = size[i], offset = 0, srt = rotWord * :\n",
            "“font family 'Microsoft YaHei' not found, will use 'wqy-microhei' instead”\n",
            "Warning message in text.default(x1, y1, words[i], cex = size[i], offset = 0, srt = rotWord * :\n",
            "“font family 'Microsoft YaHei' not found, will use 'wqy-microhei' instead”\n",
            "Warning message in text.default(x1, y1, words[i], cex = size[i], offset = 0, srt = rotWord * :\n",
            "“font family 'Microsoft YaHei' not found, will use 'wqy-microhei' instead”\n",
            "Warning message in text.default(x1, y1, words[i], cex = size[i], offset = 0, srt = rotWord * :\n",
            "“font family 'Microsoft YaHei' not found, will use 'wqy-microhei' instead”\n",
            "Warning message in text.default(x1, y1, words[i], cex = size[i], offset = 0, srt = rotWord * :\n",
            "“font family 'Microsoft YaHei' not found, will use 'wqy-microhei' instead”\n",
            "Warning message in strwidth(words[i], cex = size[i], ...):\n",
            "“font family 'Microsoft YaHei' not found, will use 'wqy-microhei' instead”\n",
            "Warning message in text.default(x1, y1, words[i], cex = size[i], offset = 0, srt = rotWord * :\n",
            "“font family 'Microsoft YaHei' not found, will use 'wqy-microhei' instead”\n",
            "Warning message in text.default(x1, y1, words[i], cex = size[i], offset = 0, srt = rotWord * :\n",
            "“font family 'Microsoft YaHei' not found, will use 'wqy-microhei' instead”\n",
            "Warning message in text.default(x1, y1, words[i], cex = size[i], offset = 0, srt = rotWord * :\n",
            "“font family 'Microsoft YaHei' not found, will use 'wqy-microhei' instead”\n",
            "Warning message in text.default(x1, y1, words[i], cex = size[i], offset = 0, srt = rotWord * :\n",
            "“font family 'Microsoft YaHei' not found, will use 'wqy-microhei' instead”\n",
            "Warning message in strwidth(words[i], cex = size[i], ...):\n",
            "“font family 'Microsoft YaHei' not found, will use 'wqy-microhei' instead”\n",
            "Warning message in text.default(x1, y1, words[i], cex = size[i], offset = 0, srt = rotWord * :\n",
            "“font family 'Microsoft YaHei' not found, will use 'wqy-microhei' instead”\n",
            "Warning message in text.default(x1, y1, words[i], cex = size[i], offset = 0, srt = rotWord * :\n",
            "“font family 'Microsoft YaHei' not found, will use 'wqy-microhei' instead”\n",
            "Warning message in text.default(x1, y1, words[i], cex = size[i], offset = 0, srt = rotWord * :\n",
            "“font family 'Microsoft YaHei' not found, will use 'wqy-microhei' instead”\n",
            "Warning message in text.default(x1, y1, words[i], cex = size[i], offset = 0, srt = rotWord * :\n",
            "“font family 'Microsoft YaHei' not found, will use 'wqy-microhei' instead”\n",
            "Warning message in strwidth(words[i], cex = size[i], ...):\n",
            "“font family 'Microsoft YaHei' not found, will use 'wqy-microhei' instead”\n",
            "Warning message in text.default(x1, y1, words[i], cex = size[i], offset = 0, srt = rotWord * :\n",
            "“font family 'Microsoft YaHei' not found, will use 'wqy-microhei' instead”\n",
            "Warning message in text.default(x1, y1, words[i], cex = size[i], offset = 0, srt = rotWord * :\n",
            "“font family 'Microsoft YaHei' not found, will use 'wqy-microhei' instead”\n",
            "Warning message in text.default(x1, y1, words[i], cex = size[i], offset = 0, srt = rotWord * :\n",
            "“font family 'Microsoft YaHei' not found, will use 'wqy-microhei' instead”\n",
            "Warning message in text.default(x1, y1, words[i], cex = size[i], offset = 0, srt = rotWord * :\n",
            "“font family 'Microsoft YaHei' not found, will use 'wqy-microhei' instead”\n",
            "Warning message in strwidth(words[i], cex = size[i], ...):\n",
            "“font family 'Microsoft YaHei' not found, will use 'wqy-microhei' instead”\n",
            "Warning message in text.default(x1, y1, words[i], cex = size[i], offset = 0, srt = rotWord * :\n",
            "“font family 'Microsoft YaHei' not found, will use 'wqy-microhei' instead”\n",
            "Warning message in text.default(x1, y1, words[i], cex = size[i], offset = 0, srt = rotWord * :\n",
            "“font family 'Microsoft YaHei' not found, will use 'wqy-microhei' instead”\n",
            "Warning message in text.default(x1, y1, words[i], cex = size[i], offset = 0, srt = rotWord * :\n",
            "“font family 'Microsoft YaHei' not found, will use 'wqy-microhei' instead”\n",
            "Warning message in strwidth(words[i], cex = size[i], ...):\n",
            "“font family 'Microsoft YaHei' not found, will use 'wqy-microhei' instead”\n",
            "Warning message in text.default(x1, y1, words[i], cex = size[i], offset = 0, srt = rotWord * :\n",
            "“font family 'Microsoft YaHei' not found, will use 'wqy-microhei' instead”\n",
            "Warning message in text.default(x1, y1, words[i], cex = size[i], offset = 0, srt = rotWord * :\n",
            "“font family 'Microsoft YaHei' not found, will use 'wqy-microhei' instead”\n",
            "Warning message in text.default(x1, y1, words[i], cex = size[i], offset = 0, srt = rotWord * :\n",
            "“font family 'Microsoft YaHei' not found, will use 'wqy-microhei' instead”\n",
            "Warning message in text.default(x1, y1, words[i], cex = size[i], offset = 0, srt = rotWord * :\n",
            "“font family 'Microsoft YaHei' not found, will use 'wqy-microhei' instead”\n",
            "Warning message in strwidth(words[i], cex = size[i], ...):\n",
            "“font family 'Microsoft YaHei' not found, will use 'wqy-microhei' instead”\n",
            "Warning message in text.default(x1, y1, words[i], cex = size[i], offset = 0, srt = rotWord * :\n",
            "“font family 'Microsoft YaHei' not found, will use 'wqy-microhei' instead”\n",
            "Warning message in text.default(x1, y1, words[i], cex = size[i], offset = 0, srt = rotWord * :\n",
            "“font family 'Microsoft YaHei' not found, will use 'wqy-microhei' instead”\n",
            "Warning message in text.default(x1, y1, words[i], cex = size[i], offset = 0, srt = rotWord * :\n",
            "“font family 'Microsoft YaHei' not found, will use 'wqy-microhei' instead”\n",
            "Warning message in text.default(x1, y1, words[i], cex = size[i], offset = 0, srt = rotWord * :\n",
            "“font family 'Microsoft YaHei' not found, will use 'wqy-microhei' instead”\n",
            "Warning message in strwidth(words[i], cex = size[i], ...):\n",
            "“font family 'Microsoft YaHei' not found, will use 'wqy-microhei' instead”\n",
            "Warning message in text.default(x1, y1, words[i], cex = size[i], offset = 0, srt = rotWord * :\n",
            "“font family 'Microsoft YaHei' not found, will use 'wqy-microhei' instead”\n",
            "Warning message in text.default(x1, y1, words[i], cex = size[i], offset = 0, srt = rotWord * :\n",
            "“font family 'Microsoft YaHei' not found, will use 'wqy-microhei' instead”\n",
            "Warning message in text.default(x1, y1, words[i], cex = size[i], offset = 0, srt = rotWord * :\n",
            "“font family 'Microsoft YaHei' not found, will use 'wqy-microhei' instead”\n",
            "Warning message in text.default(x1, y1, words[i], cex = size[i], offset = 0, srt = rotWord * :\n",
            "“font family 'Microsoft YaHei' not found, will use 'wqy-microhei' instead”\n",
            "Warning message in strwidth(words[i], cex = size[i], ...):\n",
            "“font family 'Microsoft YaHei' not found, will use 'wqy-microhei' instead”\n",
            "Warning message in text.default(x1, y1, words[i], cex = size[i], offset = 0, srt = rotWord * :\n",
            "“font family 'Microsoft YaHei' not found, will use 'wqy-microhei' instead”\n",
            "Warning message in text.default(x1, y1, words[i], cex = size[i], offset = 0, srt = rotWord * :\n",
            "“font family 'Microsoft YaHei' not found, will use 'wqy-microhei' instead”\n",
            "Warning message in text.default(x1, y1, words[i], cex = size[i], offset = 0, srt = rotWord * :\n",
            "“font family 'Microsoft YaHei' not found, will use 'wqy-microhei' instead”\n",
            "Warning message in text.default(x1, y1, words[i], cex = size[i], offset = 0, srt = rotWord * :\n",
            "“font family 'Microsoft YaHei' not found, will use 'wqy-microhei' instead”\n",
            "Warning message in strwidth(words[i], cex = size[i], ...):\n",
            "“font family 'Microsoft YaHei' not found, will use 'wqy-microhei' instead”\n",
            "Warning message in text.default(x1, y1, words[i], cex = size[i], offset = 0, srt = rotWord * :\n",
            "“font family 'Microsoft YaHei' not found, will use 'wqy-microhei' instead”\n",
            "Warning message in text.default(x1, y1, words[i], cex = size[i], offset = 0, srt = rotWord * :\n",
            "“font family 'Microsoft YaHei' not found, will use 'wqy-microhei' instead”\n",
            "Warning message in text.default(x1, y1, words[i], cex = size[i], offset = 0, srt = rotWord * :\n",
            "“font family 'Microsoft YaHei' not found, will use 'wqy-microhei' instead”\n",
            "Warning message in text.default(x1, y1, words[i], cex = size[i], offset = 0, srt = rotWord * :\n",
            "“font family 'Microsoft YaHei' not found, will use 'wqy-microhei' instead”\n",
            "Warning message in strwidth(words[i], cex = size[i], ...):\n",
            "“font family 'Microsoft YaHei' not found, will use 'wqy-microhei' instead”\n",
            "Warning message in text.default(x1, y1, words[i], cex = size[i], offset = 0, srt = rotWord * :\n",
            "“font family 'Microsoft YaHei' not found, will use 'wqy-microhei' instead”\n",
            "Warning message in text.default(x1, y1, words[i], cex = size[i], offset = 0, srt = rotWord * :\n",
            "“font family 'Microsoft YaHei' not found, will use 'wqy-microhei' instead”\n",
            "Warning message in text.default(x1, y1, words[i], cex = size[i], offset = 0, srt = rotWord * :\n",
            "“font family 'Microsoft YaHei' not found, will use 'wqy-microhei' instead”\n",
            "Warning message in strwidth(words[i], cex = size[i], ...):\n",
            "“font family 'Microsoft YaHei' not found, will use 'wqy-microhei' instead”\n",
            "Warning message in text.default(x1, y1, words[i], cex = size[i], offset = 0, srt = rotWord * :\n",
            "“font family 'Microsoft YaHei' not found, will use 'wqy-microhei' instead”\n",
            "Warning message in text.default(x1, y1, words[i], cex = size[i], offset = 0, srt = rotWord * :\n",
            "“font family 'Microsoft YaHei' not found, will use 'wqy-microhei' instead”\n",
            "Warning message in text.default(x1, y1, words[i], cex = size[i], offset = 0, srt = rotWord * :\n",
            "“font family 'Microsoft YaHei' not found, will use 'wqy-microhei' instead”\n",
            "Warning message in text.default(x1, y1, words[i], cex = size[i], offset = 0, srt = rotWord * :\n",
            "“font family 'Microsoft YaHei' not found, will use 'wqy-microhei' instead”\n",
            "Warning message in text.default(x1, y1, words[i], cex = size[i], offset = 0, srt = rotWord * :\n",
            "“font family 'Microsoft YaHei' not found, will use 'wqy-microhei' instead”\n",
            "Warning message in strwidth(words[i], cex = size[i], ...):\n",
            "“font family 'Microsoft YaHei' not found, will use 'wqy-microhei' instead”\n",
            "Warning message in text.default(x1, y1, words[i], cex = size[i], offset = 0, srt = rotWord * :\n",
            "“font family 'Microsoft YaHei' not found, will use 'wqy-microhei' instead”\n",
            "Warning message in text.default(x1, y1, words[i], cex = size[i], offset = 0, srt = rotWord * :\n",
            "“font family 'Microsoft YaHei' not found, will use 'wqy-microhei' instead”\n",
            "Warning message in text.default(x1, y1, words[i], cex = size[i], offset = 0, srt = rotWord * :\n",
            "“font family 'Microsoft YaHei' not found, will use 'wqy-microhei' instead”\n",
            "Warning message in strwidth(words[i], cex = size[i], ...):\n",
            "“font family 'Microsoft YaHei' not found, will use 'wqy-microhei' instead”\n",
            "Warning message in text.default(x1, y1, words[i], cex = size[i], offset = 0, srt = rotWord * :\n",
            "“font family 'Microsoft YaHei' not found, will use 'wqy-microhei' instead”\n",
            "Warning message in text.default(x1, y1, words[i], cex = size[i], offset = 0, srt = rotWord * :\n",
            "“font family 'Microsoft YaHei' not found, will use 'wqy-microhei' instead”\n",
            "Warning message in text.default(x1, y1, words[i], cex = size[i], offset = 0, srt = rotWord * :\n",
            "“font family 'Microsoft YaHei' not found, will use 'wqy-microhei' instead”\n",
            "Warning message in text.default(x1, y1, words[i], cex = size[i], offset = 0, srt = rotWord * :\n",
            "“font family 'Microsoft YaHei' not found, will use 'wqy-microhei' instead”\n",
            "Warning message in strwidth(words[i], cex = size[i], ...):\n",
            "“font family 'Microsoft YaHei' not found, will use 'wqy-microhei' instead”\n",
            "Warning message in text.default(x1, y1, words[i], cex = size[i], offset = 0, srt = rotWord * :\n",
            "“font family 'Microsoft YaHei' not found, will use 'wqy-microhei' instead”\n",
            "Warning message in text.default(x1, y1, words[i], cex = size[i], offset = 0, srt = rotWord * :\n",
            "“font family 'Microsoft YaHei' not found, will use 'wqy-microhei' instead”\n",
            "Warning message in text.default(x1, y1, words[i], cex = size[i], offset = 0, srt = rotWord * :\n",
            "“font family 'Microsoft YaHei' not found, will use 'wqy-microhei' instead”\n",
            "Warning message in text.default(x1, y1, words[i], cex = size[i], offset = 0, srt = rotWord * :\n",
            "“font family 'Microsoft YaHei' not found, will use 'wqy-microhei' instead”\n",
            "Warning message in strwidth(words[i], cex = size[i], ...):\n",
            "“font family 'Microsoft YaHei' not found, will use 'wqy-microhei' instead”\n",
            "Warning message in text.default(x1, y1, words[i], cex = size[i], offset = 0, srt = rotWord * :\n",
            "“font family 'Microsoft YaHei' not found, will use 'wqy-microhei' instead”\n",
            "Warning message in text.default(x1, y1, words[i], cex = size[i], offset = 0, srt = rotWord * :\n",
            "“font family 'Microsoft YaHei' not found, will use 'wqy-microhei' instead”\n",
            "Warning message in text.default(x1, y1, words[i], cex = size[i], offset = 0, srt = rotWord * :\n",
            "“font family 'Microsoft YaHei' not found, will use 'wqy-microhei' instead”\n",
            "Warning message in text.default(x1, y1, words[i], cex = size[i], offset = 0, srt = rotWord * :\n",
            "“font family 'Microsoft YaHei' not found, will use 'wqy-microhei' instead”\n",
            "Warning message in text.default(x1, y1, words[i], cex = size[i], offset = 0, srt = rotWord * :\n",
            "“font family 'Microsoft YaHei' not found, will use 'wqy-microhei' instead”\n",
            "Warning message in strwidth(words[i], cex = size[i], ...):\n",
            "“font family 'Microsoft YaHei' not found, will use 'wqy-microhei' instead”\n",
            "Warning message in text.default(x1, y1, words[i], cex = size[i], offset = 0, srt = rotWord * :\n",
            "“font family 'Microsoft YaHei' not found, will use 'wqy-microhei' instead”\n",
            "Warning message in text.default(x1, y1, words[i], cex = size[i], offset = 0, srt = rotWord * :\n",
            "“font family 'Microsoft YaHei' not found, will use 'wqy-microhei' instead”\n",
            "Warning message in text.default(x1, y1, words[i], cex = size[i], offset = 0, srt = rotWord * :\n",
            "“font family 'Microsoft YaHei' not found, will use 'wqy-microhei' instead”\n",
            "Warning message in strwidth(words[i], cex = size[i], ...):\n",
            "“font family 'Microsoft YaHei' not found, will use 'wqy-microhei' instead”\n",
            "Warning message in text.default(x1, y1, words[i], cex = size[i], offset = 0, srt = rotWord * :\n",
            "“font family 'Microsoft YaHei' not found, will use 'wqy-microhei' instead”\n",
            "Warning message in text.default(x1, y1, words[i], cex = size[i], offset = 0, srt = rotWord * :\n",
            "“font family 'Microsoft YaHei' not found, will use 'wqy-microhei' instead”\n",
            "Warning message in text.default(x1, y1, words[i], cex = size[i], offset = 0, srt = rotWord * :\n",
            "“font family 'Microsoft YaHei' not found, will use 'wqy-microhei' instead”\n",
            "Warning message in text.default(x1, y1, words[i], cex = size[i], offset = 0, srt = rotWord * :\n",
            "“font family 'Microsoft YaHei' not found, will use 'wqy-microhei' instead”\n",
            "Warning message in strwidth(words[i], cex = size[i], ...):\n",
            "“font family 'Microsoft YaHei' not found, will use 'wqy-microhei' instead”\n",
            "Warning message in text.default(x1, y1, words[i], cex = size[i], offset = 0, srt = rotWord * :\n",
            "“font family 'Microsoft YaHei' not found, will use 'wqy-microhei' instead”\n",
            "Warning message in text.default(x1, y1, words[i], cex = size[i], offset = 0, srt = rotWord * :\n",
            "“font family 'Microsoft YaHei' not found, will use 'wqy-microhei' instead”\n",
            "Warning message in text.default(x1, y1, words[i], cex = size[i], offset = 0, srt = rotWord * :\n",
            "“font family 'Microsoft YaHei' not found, will use 'wqy-microhei' instead”\n",
            "Warning message in text.default(x1, y1, words[i], cex = size[i], offset = 0, srt = rotWord * :\n",
            "“font family 'Microsoft YaHei' not found, will use 'wqy-microhei' instead”\n",
            "Warning message in strwidth(words[i], cex = size[i], ...):\n",
            "“font family 'Microsoft YaHei' not found, will use 'wqy-microhei' instead”\n",
            "Warning message in text.default(x1, y1, words[i], cex = size[i], offset = 0, srt = rotWord * :\n",
            "“font family 'Microsoft YaHei' not found, will use 'wqy-microhei' instead”\n",
            "Warning message in text.default(x1, y1, words[i], cex = size[i], offset = 0, srt = rotWord * :\n",
            "“font family 'Microsoft YaHei' not found, will use 'wqy-microhei' instead”\n",
            "Warning message in text.default(x1, y1, words[i], cex = size[i], offset = 0, srt = rotWord * :\n",
            "“font family 'Microsoft YaHei' not found, will use 'wqy-microhei' instead”\n",
            "Warning message in text.default(x1, y1, words[i], cex = size[i], offset = 0, srt = rotWord * :\n",
            "“font family 'Microsoft YaHei' not found, will use 'wqy-microhei' instead”\n",
            "Warning message in strwidth(words[i], cex = size[i], ...):\n",
            "“font family 'Microsoft YaHei' not found, will use 'wqy-microhei' instead”\n",
            "Warning message in text.default(x1, y1, words[i], cex = size[i], offset = 0, srt = rotWord * :\n",
            "“font family 'Microsoft YaHei' not found, will use 'wqy-microhei' instead”\n",
            "Warning message in text.default(x1, y1, words[i], cex = size[i], offset = 0, srt = rotWord * :\n",
            "“font family 'Microsoft YaHei' not found, will use 'wqy-microhei' instead”\n",
            "Warning message in text.default(x1, y1, words[i], cex = size[i], offset = 0, srt = rotWord * :\n",
            "“font family 'Microsoft YaHei' not found, will use 'wqy-microhei' instead”\n",
            "Warning message in text.default(x1, y1, words[i], cex = size[i], offset = 0, srt = rotWord * :\n",
            "“font family 'Microsoft YaHei' not found, will use 'wqy-microhei' instead”\n",
            "Warning message in strwidth(words[i], cex = size[i], ...):\n",
            "“font family 'Microsoft YaHei' not found, will use 'wqy-microhei' instead”\n",
            "Warning message in text.default(x1, y1, words[i], cex = size[i], offset = 0, srt = rotWord * :\n",
            "“font family 'Microsoft YaHei' not found, will use 'wqy-microhei' instead”\n",
            "Warning message in text.default(x1, y1, words[i], cex = size[i], offset = 0, srt = rotWord * :\n",
            "“font family 'Microsoft YaHei' not found, will use 'wqy-microhei' instead”\n",
            "Warning message in text.default(x1, y1, words[i], cex = size[i], offset = 0, srt = rotWord * :\n",
            "“font family 'Microsoft YaHei' not found, will use 'wqy-microhei' instead”\n",
            "Warning message in strwidth(words[i], cex = size[i], ...):\n",
            "“font family 'Microsoft YaHei' not found, will use 'wqy-microhei' instead”\n",
            "Warning message in text.default(x1, y1, words[i], cex = size[i], offset = 0, srt = rotWord * :\n",
            "“font family 'Microsoft YaHei' not found, will use 'wqy-microhei' instead”\n",
            "Warning message in text.default(x1, y1, words[i], cex = size[i], offset = 0, srt = rotWord * :\n",
            "“font family 'Microsoft YaHei' not found, will use 'wqy-microhei' instead”\n",
            "Warning message in text.default(x1, y1, words[i], cex = size[i], offset = 0, srt = rotWord * :\n",
            "“font family 'Microsoft YaHei' not found, will use 'wqy-microhei' instead”\n",
            "Warning message in strwidth(words[i], cex = size[i], ...):\n",
            "“font family 'Microsoft YaHei' not found, will use 'wqy-microhei' instead”\n",
            "Warning message in text.default(x1, y1, words[i], cex = size[i], offset = 0, srt = rotWord * :\n",
            "“font family 'Microsoft YaHei' not found, will use 'wqy-microhei' instead”\n",
            "Warning message in text.default(x1, y1, words[i], cex = size[i], offset = 0, srt = rotWord * :\n",
            "“font family 'Microsoft YaHei' not found, will use 'wqy-microhei' instead”\n",
            "Warning message in text.default(x1, y1, words[i], cex = size[i], offset = 0, srt = rotWord * :\n",
            "“font family 'Microsoft YaHei' not found, will use 'wqy-microhei' instead”\n",
            "Warning message in text.default(x1, y1, words[i], cex = size[i], offset = 0, srt = rotWord * :\n",
            "“font family 'Microsoft YaHei' not found, will use 'wqy-microhei' instead”\n"
          ],
          "name": "stderr"
        },
        {
          "output_type": "display_data",
          "data": {
            "image/png": "[encoded data removed]",
            "text/plain": [
              "plot without title"
            ]
          },
          "metadata": {
            "tags": [],
            "image/png": {
              "width": 420,
              "height": 420
            }
          }
        }
      ]
    },
    {
      "cell_type": "code",
      "metadata": {
        "colab": {
          "base_uri": "https://localhost:8080/"
        },
        "id": "JcG2IGo_YZ73",
        "outputId": "d5796c93-c861-4762-cd57-59d4b8a80cf5"
      },
      "source": [
        "install.packages(\"showtext\")\n"
      ],
      "execution_count": 21,
      "outputs": [
        {
          "output_type": "stream",
          "text": [
            "Installing package into ‘/usr/local/lib/R/site-library’\n",
            "(as ‘lib’ is unspecified)\n",
            "\n",
            "also installing the dependencies ‘sysfonts’, ‘showtextdb’\n",
            "\n",
            "\n"
          ],
          "name": "stderr"
        }
      ]
    },
    {
      "cell_type": "code",
      "metadata": {
        "colab": {
          "base_uri": "https://localhost:8080/"
        },
        "id": "2-ojZavGZHKO",
        "outputId": "71c73997-afb9-4017-9239-0ca7bd312ef8"
      },
      "source": [
        "library(showtext)"
      ],
      "execution_count": 22,
      "outputs": [
        {
          "output_type": "stream",
          "text": [
            "Loading required package: sysfonts\n",
            "\n",
            "Loading required package: showtextdb\n",
            "\n"
          ],
          "name": "stderr"
        }
      ]
    },
    {
      "cell_type": "code",
      "metadata": {
        "colab": {
          "base_uri": "https://localhost:8080/"
        },
        "id": "D6YhchM3ZSk7",
        "outputId": "3d4dfcd8-0d7b-4726-c263-7840f5c5d36e"
      },
      "source": [
        "showtext.auto(enable=TRUE)"
      ],
      "execution_count": 23,
      "outputs": [
        {
          "output_type": "stream",
          "text": [
            "'showtext.auto()' is now renamed to 'showtext_auto()'\n",
            "The old version still works, but consider using the new function in future code\n",
            "\n"
          ],
          "name": "stderr"
        }
      ]
    },
    {
      "cell_type": "code",
      "metadata": {
        "id": "MfjlZRsmYyIk"
      },
      "source": [
        ""
      ],
      "execution_count": 24,
      "outputs": []
    }
  ]
}